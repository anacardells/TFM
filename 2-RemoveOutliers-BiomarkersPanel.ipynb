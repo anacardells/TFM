{
 "cells": [
  {
   "attachments": {},
   "cell_type": "markdown",
   "metadata": {},
   "source": [
    "# Explore Data and Look for Outliers"
   ]
  },
  {
   "cell_type": "code",
   "execution_count": 1,
   "metadata": {},
   "outputs": [],
   "source": [
    "# Imports\n",
    "import math\n",
    "import numpy as np\n",
    "import pandas as pd\n",
    "from scipy.stats import shapiro \n",
    "\n",
    "import matplotlib.pyplot as plt\n",
    "import seaborn as sns\n",
    "\n",
    "from sklearn.decomposition import PCA\n",
    "from sklearn.manifold import TSNE\n",
    "from sklearn.cluster import DBSCAN\n",
    "from sklearn.metrics.cluster import adjusted_rand_score"
   ]
  },
  {
   "attachments": {},
   "cell_type": "markdown",
   "metadata": {},
   "source": [
    "## Missing data"
   ]
  },
  {
   "cell_type": "code",
   "execution_count": 2,
   "metadata": {},
   "outputs": [],
   "source": [
    "# Read merged dataFrame\n",
    "file='DataPatientsWithGT.csv'\n",
    "df = pd.read_csv(file,sep=';',index_col=0, na_values='n.a.', dtype={'Stage': 'object', 'Age': 'float64'})"
   ]
  },
  {
   "cell_type": "code",
   "execution_count": 3,
   "metadata": {},
   "outputs": [
    {
     "data": {
      "text/html": [
       "<div>\n",
       "<style scoped>\n",
       "    .dataframe tbody tr th:only-of-type {\n",
       "        vertical-align: middle;\n",
       "    }\n",
       "\n",
       "    .dataframe tbody tr th {\n",
       "        vertical-align: top;\n",
       "    }\n",
       "\n",
       "    .dataframe thead th {\n",
       "        text-align: right;\n",
       "    }\n",
       "</style>\n",
       "<table border=\"1\" class=\"dataframe\">\n",
       "  <thead>\n",
       "    <tr style=\"text-align: right;\">\n",
       "      <th></th>\n",
       "      <th>ENSG00000000419</th>\n",
       "      <th>ENSG00000000460</th>\n",
       "      <th>ENSG00000000938</th>\n",
       "      <th>ENSG00000001036</th>\n",
       "      <th>ENSG00000001461</th>\n",
       "      <th>ENSG00000001497</th>\n",
       "      <th>ENSG00000001629</th>\n",
       "      <th>ENSG00000001631</th>\n",
       "      <th>ENSG00000002330</th>\n",
       "      <th>ENSG00000002549</th>\n",
       "      <th>...</th>\n",
       "      <th>Sample ID</th>\n",
       "      <th>Stage</th>\n",
       "      <th>Sex</th>\n",
       "      <th>Age</th>\n",
       "      <th>Sample-supplying institution</th>\n",
       "      <th>Training series</th>\n",
       "      <th>Evaluation series</th>\n",
       "      <th>Validation series</th>\n",
       "      <th>Class_group</th>\n",
       "      <th>Patient_group</th>\n",
       "    </tr>\n",
       "  </thead>\n",
       "  <tbody>\n",
       "    <tr>\n",
       "      <th>1-Vumc-HD-101-TR922</th>\n",
       "      <td>3.9378</td>\n",
       "      <td>1.555228</td>\n",
       "      <td>7.445603</td>\n",
       "      <td>13.655275</td>\n",
       "      <td>11.121538</td>\n",
       "      <td>3.471206</td>\n",
       "      <td>5.986674</td>\n",
       "      <td>4.978068</td>\n",
       "      <td>46.477912</td>\n",
       "      <td>25.632179</td>\n",
       "      <td>...</td>\n",
       "      <td>Vumc-HD-101-TR922</td>\n",
       "      <td>NaN</td>\n",
       "      <td>F</td>\n",
       "      <td>35.0</td>\n",
       "      <td>Institute 13</td>\n",
       "      <td>1</td>\n",
       "      <td>0</td>\n",
       "      <td>0</td>\n",
       "      <td>nonMalignant</td>\n",
       "      <td>Asymptomatic controls</td>\n",
       "    </tr>\n",
       "  </tbody>\n",
       "</table>\n",
       "<p>1 rows × 5261 columns</p>\n",
       "</div>"
      ],
      "text/plain": [
       "                     ENSG00000000419  ENSG00000000460  ENSG00000000938  \\\n",
       "1-Vumc-HD-101-TR922           3.9378         1.555228         7.445603   \n",
       "\n",
       "                     ENSG00000001036  ENSG00000001461  ENSG00000001497  \\\n",
       "1-Vumc-HD-101-TR922        13.655275        11.121538         3.471206   \n",
       "\n",
       "                     ENSG00000001629  ENSG00000001631  ENSG00000002330  \\\n",
       "1-Vumc-HD-101-TR922         5.986674         4.978068        46.477912   \n",
       "\n",
       "                     ENSG00000002549  ...          Sample ID  Stage  Sex  \\\n",
       "1-Vumc-HD-101-TR922        25.632179  ...  Vumc-HD-101-TR922    NaN    F   \n",
       "\n",
       "                      Age  Sample-supplying institution  Training series  \\\n",
       "1-Vumc-HD-101-TR922  35.0                  Institute 13                1   \n",
       "\n",
       "                     Evaluation series  Validation series   Class_group  \\\n",
       "1-Vumc-HD-101-TR922                  0                  0  nonMalignant   \n",
       "\n",
       "                             Patient_group  \n",
       "1-Vumc-HD-101-TR922  Asymptomatic controls  \n",
       "\n",
       "[1 rows x 5261 columns]"
      ]
     },
     "execution_count": 3,
     "metadata": {},
     "output_type": "execute_result"
    }
   ],
   "source": [
    "# print(df.shape)\n",
    "df.head(1)"
   ]
  },
  {
   "cell_type": "code",
   "execution_count": 4,
   "metadata": {},
   "outputs": [
    {
     "name": "stdout",
     "output_type": "stream",
     "text": [
      "Columns with Nans ['Stage', 'Sex', 'Age']\n"
     ]
    }
   ],
   "source": [
    "# Missing data\n",
    "list_na_columns = df.columns[df.isna().any()].tolist()\n",
    "print(\"Columns with Nans\", list_na_columns)"
   ]
  },
  {
   "cell_type": "code",
   "execution_count": 5,
   "metadata": {},
   "outputs": [
    {
     "name": "stdout",
     "output_type": "stream",
     "text": [
      "Number of Nans in Stage:  979\n",
      "Number of Nans in Sex:  20\n",
      "Number of Nans in Age:  23\n"
     ]
    }
   ],
   "source": [
    "print(\"Number of Nans in Stage: \", df['Stage'].isna().sum()) # 723 non-malig + 256 malig\n",
    "print(\"Number of Nans in Sex: \", df['Sex'].isna().sum())\n",
    "print(\"Number of Nans in Age: \", df['Age'].isna().sum())"
   ]
  },
  {
   "attachments": {},
   "cell_type": "markdown",
   "metadata": {},
   "source": [
    "## Check for Outliers\n"
   ]
  },
  {
   "attachments": {},
   "cell_type": "markdown",
   "metadata": {},
   "source": [
    "We will remove those patients that do not belong to their group. \n",
    "\n",
    "In this case, the outliers analysis will be done with those genes that belong the one of the two paper's biomarker panels."
   ]
  },
  {
   "attachments": {},
   "cell_type": "markdown",
   "metadata": {},
   "source": [
    "We will focus on Class_group: Malignant versus nonMalignant"
   ]
  },
  {
   "cell_type": "code",
   "execution_count": 6,
   "metadata": {},
   "outputs": [],
   "source": [
    "# Remove columns that are repeated or irrelevant\n",
    "df_class= df.drop(['Sample ID', 'Stage', 'Sex', 'Age', 'Sample-supplying institution', 'Training series', 'Evaluation series', 'Validation series', 'Patient_group'], axis=1, inplace=False)"
   ]
  },
  {
   "attachments": {},
   "cell_type": "markdown",
   "metadata": {},
   "source": [
    "### Find Biomarker panel genes"
   ]
  },
  {
   "cell_type": "code",
   "execution_count": 24,
   "metadata": {},
   "outputs": [
    {
     "data": {
      "text/html": [
       "<div>\n",
       "<style scoped>\n",
       "    .dataframe tbody tr th:only-of-type {\n",
       "        vertical-align: middle;\n",
       "    }\n",
       "\n",
       "    .dataframe tbody tr th {\n",
       "        vertical-align: top;\n",
       "    }\n",
       "\n",
       "    .dataframe thead th {\n",
       "        text-align: right;\n",
       "    }\n",
       "</style>\n",
       "<table border=\"1\" class=\"dataframe\">\n",
       "  <thead>\n",
       "    <tr style=\"text-align: right;\">\n",
       "      <th></th>\n",
       "      <th>ensembl_gene_id</th>\n",
       "      <th>hgnc_symbol</th>\n",
       "      <th>description</th>\n",
       "      <th>In Tumor-site-of-origin algorithm biomarker panel</th>\n",
       "    </tr>\n",
       "    <tr>\n",
       "      <th>#</th>\n",
       "      <th></th>\n",
       "      <th></th>\n",
       "      <th></th>\n",
       "      <th></th>\n",
       "    </tr>\n",
       "  </thead>\n",
       "  <tbody>\n",
       "    <tr>\n",
       "      <th>1</th>\n",
       "      <td>ENSG00000133742</td>\n",
       "      <td>CA1</td>\n",
       "      <td>carbonic anhydrase I [Source:HGNC Symbol;Acc:1...</td>\n",
       "      <td>0</td>\n",
       "    </tr>\n",
       "    <tr>\n",
       "      <th>2</th>\n",
       "      <td>ENSG00000013306</td>\n",
       "      <td>SLC25A39</td>\n",
       "      <td>solute carrier family 25, member 39 [Source:HG...</td>\n",
       "      <td>0</td>\n",
       "    </tr>\n",
       "    <tr>\n",
       "      <th>3</th>\n",
       "      <td>ENSG00000223609</td>\n",
       "      <td>HBD</td>\n",
       "      <td>hemoglobin, delta [Source:HGNC Symbol;Acc:4829]</td>\n",
       "      <td>0</td>\n",
       "    </tr>\n",
       "    <tr>\n",
       "      <th>4</th>\n",
       "      <td>ENSG00000103316</td>\n",
       "      <td>CRYM</td>\n",
       "      <td>crystallin, mu [Source:HGNC Symbol;Acc:2418]</td>\n",
       "      <td>0</td>\n",
       "    </tr>\n",
       "    <tr>\n",
       "      <th>5</th>\n",
       "      <td>ENSG00000142089</td>\n",
       "      <td>IFITM3</td>\n",
       "      <td>interferon induced transmembrane protein 3 [So...</td>\n",
       "      <td>1</td>\n",
       "    </tr>\n",
       "  </tbody>\n",
       "</table>\n",
       "</div>"
      ],
      "text/plain": [
       "   ensembl_gene_id hgnc_symbol  \\\n",
       "#                                \n",
       "1  ENSG00000133742         CA1   \n",
       "2  ENSG00000013306    SLC25A39   \n",
       "3  ENSG00000223609         HBD   \n",
       "4  ENSG00000103316        CRYM   \n",
       "5  ENSG00000142089      IFITM3   \n",
       "\n",
       "                                         description  \\\n",
       "#                                                      \n",
       "1  carbonic anhydrase I [Source:HGNC Symbol;Acc:1...   \n",
       "2  solute carrier family 25, member 39 [Source:HG...   \n",
       "3    hemoglobin, delta [Source:HGNC Symbol;Acc:4829]   \n",
       "4       crystallin, mu [Source:HGNC Symbol;Acc:2418]   \n",
       "5  interferon induced transmembrane protein 3 [So...   \n",
       "\n",
       "   In Tumor-site-of-origin algorithm biomarker panel  \n",
       "#                                                     \n",
       "1                                                  0  \n",
       "2                                                  0  \n",
       "3                                                  0  \n",
       "4                                                  0  \n",
       "5                                                  1  "
      ]
     },
     "execution_count": 24,
     "metadata": {},
     "output_type": "execute_result"
    }
   ],
   "source": [
    "file1='1-s2.0-S1535610822003701-mmc4.xlsx'\n",
    "df1 = pd.read_excel(file1, header=2, index_col=0)\n",
    "df1.head(5)"
   ]
  },
  {
   "cell_type": "code",
   "execution_count": 25,
   "metadata": {},
   "outputs": [
    {
     "data": {
      "text/html": [
       "<div>\n",
       "<style scoped>\n",
       "    .dataframe tbody tr th:only-of-type {\n",
       "        vertical-align: middle;\n",
       "    }\n",
       "\n",
       "    .dataframe tbody tr th {\n",
       "        vertical-align: top;\n",
       "    }\n",
       "\n",
       "    .dataframe thead th {\n",
       "        text-align: right;\n",
       "    }\n",
       "</style>\n",
       "<table border=\"1\" class=\"dataframe\">\n",
       "  <thead>\n",
       "    <tr style=\"text-align: right;\">\n",
       "      <th></th>\n",
       "      <th>ensembl_gene_id</th>\n",
       "      <th>biomarker panel</th>\n",
       "    </tr>\n",
       "    <tr>\n",
       "      <th>#</th>\n",
       "      <th></th>\n",
       "      <th></th>\n",
       "    </tr>\n",
       "  </thead>\n",
       "  <tbody>\n",
       "    <tr>\n",
       "      <th>1</th>\n",
       "      <td>ENSG00000133742</td>\n",
       "      <td>0</td>\n",
       "    </tr>\n",
       "    <tr>\n",
       "      <th>2</th>\n",
       "      <td>ENSG00000013306</td>\n",
       "      <td>0</td>\n",
       "    </tr>\n",
       "    <tr>\n",
       "      <th>3</th>\n",
       "      <td>ENSG00000223609</td>\n",
       "      <td>0</td>\n",
       "    </tr>\n",
       "    <tr>\n",
       "      <th>4</th>\n",
       "      <td>ENSG00000103316</td>\n",
       "      <td>0</td>\n",
       "    </tr>\n",
       "    <tr>\n",
       "      <th>5</th>\n",
       "      <td>ENSG00000142089</td>\n",
       "      <td>1</td>\n",
       "    </tr>\n",
       "  </tbody>\n",
       "</table>\n",
       "</div>"
      ],
      "text/plain": [
       "   ensembl_gene_id  biomarker panel\n",
       "#                                  \n",
       "1  ENSG00000133742                0\n",
       "2  ENSG00000013306                0\n",
       "3  ENSG00000223609                0\n",
       "4  ENSG00000103316                0\n",
       "5  ENSG00000142089                1"
      ]
     },
     "execution_count": 25,
     "metadata": {},
     "output_type": "execute_result"
    }
   ],
   "source": [
    "df1.drop([\"hgnc_symbol\",\"description\"], axis=1, inplace=True)\n",
    "df1.rename(columns={'In Tumor-site-of-origin algorithm biomarker panel' : 'biomarker panel'}, inplace=True)\n",
    "df1.head(5)"
   ]
  },
  {
   "cell_type": "code",
   "execution_count": 32,
   "metadata": {},
   "outputs": [
    {
     "data": {
      "text/plain": [
       "(493, 2)"
      ]
     },
     "execution_count": 32,
     "metadata": {},
     "output_type": "execute_result"
    }
   ],
   "source": [
    "df1.shape"
   ]
  },
  {
   "cell_type": "code",
   "execution_count": 26,
   "metadata": {},
   "outputs": [
    {
     "data": {
      "text/html": [
       "<div>\n",
       "<style scoped>\n",
       "    .dataframe tbody tr th:only-of-type {\n",
       "        vertical-align: middle;\n",
       "    }\n",
       "\n",
       "    .dataframe tbody tr th {\n",
       "        vertical-align: top;\n",
       "    }\n",
       "\n",
       "    .dataframe thead th {\n",
       "        text-align: right;\n",
       "    }\n",
       "</style>\n",
       "<table border=\"1\" class=\"dataframe\">\n",
       "  <thead>\n",
       "    <tr style=\"text-align: right;\">\n",
       "      <th></th>\n",
       "      <th>ensembl_gene_id</th>\n",
       "      <th>biomarker panel</th>\n",
       "    </tr>\n",
       "    <tr>\n",
       "      <th>#</th>\n",
       "      <th></th>\n",
       "      <th></th>\n",
       "    </tr>\n",
       "  </thead>\n",
       "  <tbody>\n",
       "    <tr>\n",
       "      <th>1</th>\n",
       "      <td>ENSG00000243449</td>\n",
       "      <td>0</td>\n",
       "    </tr>\n",
       "    <tr>\n",
       "      <th>2</th>\n",
       "      <td>ENSG00000159377</td>\n",
       "      <td>0</td>\n",
       "    </tr>\n",
       "    <tr>\n",
       "      <th>3</th>\n",
       "      <td>ENSG00000237973</td>\n",
       "      <td>0</td>\n",
       "    </tr>\n",
       "    <tr>\n",
       "      <th>4</th>\n",
       "      <td>ENSG00000177556</td>\n",
       "      <td>1</td>\n",
       "    </tr>\n",
       "    <tr>\n",
       "      <th>5</th>\n",
       "      <td>ENSG00000168028</td>\n",
       "      <td>0</td>\n",
       "    </tr>\n",
       "  </tbody>\n",
       "</table>\n",
       "</div>"
      ],
      "text/plain": [
       "   ensembl_gene_id  biomarker panel\n",
       "#                                  \n",
       "1  ENSG00000243449                0\n",
       "2  ENSG00000159377                0\n",
       "3  ENSG00000237973                0\n",
       "4  ENSG00000177556                1\n",
       "5  ENSG00000168028                0"
      ]
     },
     "execution_count": 26,
     "metadata": {},
     "output_type": "execute_result"
    }
   ],
   "source": [
    "file2='1-s2.0-S1535610822003701-mmc5.xlsx'\n",
    "df2 = pd.read_excel(file2, header=2, index_col=0)\n",
    "df2.drop([\"hgnc_symbol\",\"description\"], axis=1, inplace=True)\n",
    "df2.rename(columns={'In Pan-cancer algorithm biomarker panel' : 'biomarker panel'}, inplace=True)\n",
    "df2.head(5)"
   ]
  },
  {
   "cell_type": "code",
   "execution_count": 33,
   "metadata": {},
   "outputs": [
    {
     "data": {
      "text/plain": [
       "(93, 2)"
      ]
     },
     "execution_count": 33,
     "metadata": {},
     "output_type": "execute_result"
    }
   ],
   "source": [
    "df2.shape"
   ]
  },
  {
   "cell_type": "code",
   "execution_count": 27,
   "metadata": {},
   "outputs": [
    {
     "data": {
      "text/html": [
       "<div>\n",
       "<style scoped>\n",
       "    .dataframe tbody tr th:only-of-type {\n",
       "        vertical-align: middle;\n",
       "    }\n",
       "\n",
       "    .dataframe tbody tr th {\n",
       "        vertical-align: top;\n",
       "    }\n",
       "\n",
       "    .dataframe thead th {\n",
       "        text-align: right;\n",
       "    }\n",
       "</style>\n",
       "<table border=\"1\" class=\"dataframe\">\n",
       "  <thead>\n",
       "    <tr style=\"text-align: right;\">\n",
       "      <th></th>\n",
       "      <th>ensembl_gene_id</th>\n",
       "      <th>biomarker panel</th>\n",
       "    </tr>\n",
       "    <tr>\n",
       "      <th>#</th>\n",
       "      <th></th>\n",
       "      <th></th>\n",
       "    </tr>\n",
       "  </thead>\n",
       "  <tbody>\n",
       "    <tr>\n",
       "      <th>1</th>\n",
       "      <td>ENSG00000133742</td>\n",
       "      <td>0</td>\n",
       "    </tr>\n",
       "    <tr>\n",
       "      <th>2</th>\n",
       "      <td>ENSG00000013306</td>\n",
       "      <td>0</td>\n",
       "    </tr>\n",
       "    <tr>\n",
       "      <th>3</th>\n",
       "      <td>ENSG00000223609</td>\n",
       "      <td>0</td>\n",
       "    </tr>\n",
       "    <tr>\n",
       "      <th>4</th>\n",
       "      <td>ENSG00000103316</td>\n",
       "      <td>0</td>\n",
       "    </tr>\n",
       "    <tr>\n",
       "      <th>5</th>\n",
       "      <td>ENSG00000142089</td>\n",
       "      <td>1</td>\n",
       "    </tr>\n",
       "  </tbody>\n",
       "</table>\n",
       "</div>"
      ],
      "text/plain": [
       "   ensembl_gene_id  biomarker panel\n",
       "#                                  \n",
       "1  ENSG00000133742                0\n",
       "2  ENSG00000013306                0\n",
       "3  ENSG00000223609                0\n",
       "4  ENSG00000103316                0\n",
       "5  ENSG00000142089                1"
      ]
     },
     "execution_count": 27,
     "metadata": {},
     "output_type": "execute_result"
    }
   ],
   "source": [
    "# Vertical concatenation = concat on top of another, increase no of rows\n",
    "dft = pd.concat([df1,df2], axis = 0)\n",
    "dft.head(5)"
   ]
  },
  {
   "cell_type": "code",
   "execution_count": 34,
   "metadata": {},
   "outputs": [
    {
     "data": {
      "text/plain": [
       "(586, 2)"
      ]
     },
     "execution_count": 34,
     "metadata": {},
     "output_type": "execute_result"
    }
   ],
   "source": [
    "dft.shape"
   ]
  },
  {
   "cell_type": "code",
   "execution_count": 28,
   "metadata": {},
   "outputs": [
    {
     "data": {
      "text/html": [
       "<div>\n",
       "<style scoped>\n",
       "    .dataframe tbody tr th:only-of-type {\n",
       "        vertical-align: middle;\n",
       "    }\n",
       "\n",
       "    .dataframe tbody tr th {\n",
       "        vertical-align: top;\n",
       "    }\n",
       "\n",
       "    .dataframe thead th {\n",
       "        text-align: right;\n",
       "    }\n",
       "</style>\n",
       "<table border=\"1\" class=\"dataframe\">\n",
       "  <thead>\n",
       "    <tr style=\"text-align: right;\">\n",
       "      <th></th>\n",
       "      <th>ensembl_gene_id</th>\n",
       "      <th>biomarker panel</th>\n",
       "    </tr>\n",
       "    <tr>\n",
       "      <th>#</th>\n",
       "      <th></th>\n",
       "      <th></th>\n",
       "    </tr>\n",
       "  </thead>\n",
       "  <tbody>\n",
       "    <tr>\n",
       "      <th>5</th>\n",
       "      <td>ENSG00000142089</td>\n",
       "      <td>1</td>\n",
       "    </tr>\n",
       "    <tr>\n",
       "      <th>49</th>\n",
       "      <td>ENSG00000114439</td>\n",
       "      <td>1</td>\n",
       "    </tr>\n",
       "    <tr>\n",
       "      <th>127</th>\n",
       "      <td>ENSG00000109971</td>\n",
       "      <td>1</td>\n",
       "    </tr>\n",
       "    <tr>\n",
       "      <th>192</th>\n",
       "      <td>ENSG00000096060</td>\n",
       "      <td>1</td>\n",
       "    </tr>\n",
       "    <tr>\n",
       "      <th>250</th>\n",
       "      <td>ENSG00000177556</td>\n",
       "      <td>1</td>\n",
       "    </tr>\n",
       "  </tbody>\n",
       "</table>\n",
       "</div>"
      ],
      "text/plain": [
       "     ensembl_gene_id  biomarker panel\n",
       "#                                    \n",
       "5    ENSG00000142089                1\n",
       "49   ENSG00000114439                1\n",
       "127  ENSG00000109971                1\n",
       "192  ENSG00000096060                1\n",
       "250  ENSG00000177556                1"
      ]
     },
     "execution_count": 28,
     "metadata": {},
     "output_type": "execute_result"
    }
   ],
   "source": [
    "# Keep the ones that are in one of the biomarker panels\n",
    "dfbp = dft.loc[dft['biomarker panel'] == 1]\n",
    "dfbp.head(5)\n"
   ]
  },
  {
   "cell_type": "code",
   "execution_count": 30,
   "metadata": {},
   "outputs": [
    {
     "data": {
      "text/plain": [
       "(20, 2)"
      ]
     },
     "execution_count": 30,
     "metadata": {},
     "output_type": "execute_result"
    }
   ],
   "source": [
    "dfbp.shape"
   ]
  },
  {
   "cell_type": "code",
   "execution_count": 31,
   "metadata": {},
   "outputs": [
    {
     "data": {
      "text/plain": [
       "10"
      ]
     },
     "execution_count": 31,
     "metadata": {},
     "output_type": "execute_result"
    }
   ],
   "source": [
    "# Let's check there is no gene repetition\n",
    "dfbp['ensembl_gene_id'].nunique()"
   ]
  },
  {
   "cell_type": "code",
   "execution_count": 35,
   "metadata": {},
   "outputs": [
    {
     "data": {
      "text/html": [
       "<div>\n",
       "<style scoped>\n",
       "    .dataframe tbody tr th:only-of-type {\n",
       "        vertical-align: middle;\n",
       "    }\n",
       "\n",
       "    .dataframe tbody tr th {\n",
       "        vertical-align: top;\n",
       "    }\n",
       "\n",
       "    .dataframe thead th {\n",
       "        text-align: right;\n",
       "    }\n",
       "</style>\n",
       "<table border=\"1\" class=\"dataframe\">\n",
       "  <thead>\n",
       "    <tr style=\"text-align: right;\">\n",
       "      <th></th>\n",
       "      <th>ensembl_gene_id</th>\n",
       "      <th>biomarker panel</th>\n",
       "    </tr>\n",
       "    <tr>\n",
       "      <th>#</th>\n",
       "      <th></th>\n",
       "      <th></th>\n",
       "    </tr>\n",
       "  </thead>\n",
       "  <tbody>\n",
       "    <tr>\n",
       "      <th>5</th>\n",
       "      <td>ENSG00000142089</td>\n",
       "      <td>1</td>\n",
       "    </tr>\n",
       "    <tr>\n",
       "      <th>49</th>\n",
       "      <td>ENSG00000114439</td>\n",
       "      <td>1</td>\n",
       "    </tr>\n",
       "    <tr>\n",
       "      <th>127</th>\n",
       "      <td>ENSG00000109971</td>\n",
       "      <td>1</td>\n",
       "    </tr>\n",
       "    <tr>\n",
       "      <th>192</th>\n",
       "      <td>ENSG00000096060</td>\n",
       "      <td>1</td>\n",
       "    </tr>\n",
       "    <tr>\n",
       "      <th>250</th>\n",
       "      <td>ENSG00000177556</td>\n",
       "      <td>1</td>\n",
       "    </tr>\n",
       "  </tbody>\n",
       "</table>\n",
       "</div>"
      ],
      "text/plain": [
       "     ensembl_gene_id  biomarker panel\n",
       "#                                    \n",
       "5    ENSG00000142089                1\n",
       "49   ENSG00000114439                1\n",
       "127  ENSG00000109971                1\n",
       "192  ENSG00000096060                1\n",
       "250  ENSG00000177556                1"
      ]
     },
     "execution_count": 35,
     "metadata": {},
     "output_type": "execute_result"
    }
   ],
   "source": [
    "# Let's keep only one row per gene\n",
    "dfbpr = dfbp.drop_duplicates()\n",
    "dfbpr.head(5)"
   ]
  },
  {
   "cell_type": "code",
   "execution_count": 36,
   "metadata": {},
   "outputs": [
    {
     "data": {
      "text/plain": [
       "(10, 2)"
      ]
     },
     "execution_count": 36,
     "metadata": {},
     "output_type": "execute_result"
    }
   ],
   "source": [
    "dfbpr.shape"
   ]
  },
  {
   "attachments": {},
   "cell_type": "markdown",
   "metadata": {},
   "source": [
    "### Get a subset of the database that contains only those 10 genes"
   ]
  },
  {
   "cell_type": "code",
   "execution_count": 40,
   "metadata": {},
   "outputs": [
    {
     "name": "stdout",
     "output_type": "stream",
     "text": [
      "['ENSG00000142089', 'ENSG00000114439', 'ENSG00000109971', 'ENSG00000096060', 'ENSG00000177556', 'ENSG00000071859', 'ENSG00000228651', 'ENSG00000198168', 'ENSG00000215301', 'ENSG00000142546']\n"
     ]
    }
   ],
   "source": [
    "# df_class contains our database\n",
    "# dfbpr contains the genes from biomarker panel\n",
    "list_of_genes = list(dfbpr['ensembl_gene_id'].values)\n",
    "print(list_of_genes)\n"
   ]
  },
  {
   "cell_type": "code",
   "execution_count": 62,
   "metadata": {},
   "outputs": [
    {
     "name": "stdout",
     "output_type": "stream",
     "text": [
      "ENSG00000228651  was removed\n"
     ]
    }
   ],
   "source": [
    "#Check if any of these genes is in the genes removed\n",
    "file_g = 'List_of_genes_to_check.csv'\n",
    "df_g = pd.read_csv(file_g, header=None)\n",
    "# df_g.shape\n",
    "df_g.head(5)\n",
    "genes_removed = list(df_g[0].values)\n",
    "list_of_genes_r = []\n",
    "# print(len(genes_removed))\n",
    "for elem in list_of_genes:\n",
    "    if elem in genes_removed:\n",
    "        print(elem, \" was removed\")\n",
    "    else:\n",
    "        list_of_genes_r.append(elem)"
   ]
  },
  {
   "cell_type": "code",
   "execution_count": 63,
   "metadata": {},
   "outputs": [
    {
     "name": "stdout",
     "output_type": "stream",
     "text": [
      "['ENSG00000142089', 'ENSG00000114439', 'ENSG00000109971', 'ENSG00000096060', 'ENSG00000177556', 'ENSG00000071859', 'ENSG00000198168', 'ENSG00000215301', 'ENSG00000142546']\n"
     ]
    }
   ],
   "source": [
    "# We will have to remove this gene from the list to be able to continue\n",
    "print(list_of_genes_r)"
   ]
  },
  {
   "cell_type": "code",
   "execution_count": 65,
   "metadata": {},
   "outputs": [
    {
     "data": {
      "text/html": [
       "<div>\n",
       "<style scoped>\n",
       "    .dataframe tbody tr th:only-of-type {\n",
       "        vertical-align: middle;\n",
       "    }\n",
       "\n",
       "    .dataframe tbody tr th {\n",
       "        vertical-align: top;\n",
       "    }\n",
       "\n",
       "    .dataframe thead th {\n",
       "        text-align: right;\n",
       "    }\n",
       "</style>\n",
       "<table border=\"1\" class=\"dataframe\">\n",
       "  <thead>\n",
       "    <tr style=\"text-align: right;\">\n",
       "      <th></th>\n",
       "      <th>ENSG00000142089</th>\n",
       "      <th>ENSG00000114439</th>\n",
       "      <th>ENSG00000109971</th>\n",
       "      <th>ENSG00000096060</th>\n",
       "      <th>ENSG00000177556</th>\n",
       "      <th>ENSG00000071859</th>\n",
       "      <th>ENSG00000198168</th>\n",
       "      <th>ENSG00000215301</th>\n",
       "      <th>ENSG00000142546</th>\n",
       "      <th>Class_group</th>\n",
       "    </tr>\n",
       "  </thead>\n",
       "  <tbody>\n",
       "    <tr>\n",
       "      <th>1-Vumc-HD-101-TR922</th>\n",
       "      <td>67.059569</td>\n",
       "      <td>8.627443</td>\n",
       "      <td>41.248578</td>\n",
       "      <td>4.489009</td>\n",
       "      <td>68.950936</td>\n",
       "      <td>85.789872</td>\n",
       "      <td>147.288125</td>\n",
       "      <td>21.586292</td>\n",
       "      <td>47.175239</td>\n",
       "      <td>nonMalignant</td>\n",
       "    </tr>\n",
       "    <tr>\n",
       "      <th>2-Vumc-HD-103-TR923</th>\n",
       "      <td>78.833667</td>\n",
       "      <td>19.331437</td>\n",
       "      <td>389.800978</td>\n",
       "      <td>23.494897</td>\n",
       "      <td>97.368677</td>\n",
       "      <td>87.399163</td>\n",
       "      <td>63.834012</td>\n",
       "      <td>22.152919</td>\n",
       "      <td>473.977402</td>\n",
       "      <td>nonMalignant</td>\n",
       "    </tr>\n",
       "    <tr>\n",
       "      <th>3-Vumc-HD-108-TR924</th>\n",
       "      <td>162.642851</td>\n",
       "      <td>18.138539</td>\n",
       "      <td>415.679187</td>\n",
       "      <td>23.496555</td>\n",
       "      <td>159.133155</td>\n",
       "      <td>73.465689</td>\n",
       "      <td>101.289140</td>\n",
       "      <td>64.458085</td>\n",
       "      <td>258.482264</td>\n",
       "      <td>nonMalignant</td>\n",
       "    </tr>\n",
       "    <tr>\n",
       "      <th>4-Vumc-HD-127-TR925</th>\n",
       "      <td>392.688648</td>\n",
       "      <td>12.747787</td>\n",
       "      <td>175.534393</td>\n",
       "      <td>3.852725</td>\n",
       "      <td>192.408193</td>\n",
       "      <td>114.654656</td>\n",
       "      <td>72.006330</td>\n",
       "      <td>10.897996</td>\n",
       "      <td>629.017688</td>\n",
       "      <td>nonMalignant</td>\n",
       "    </tr>\n",
       "    <tr>\n",
       "      <th>5-Vumc-HD-130-TR926</th>\n",
       "      <td>233.628460</td>\n",
       "      <td>13.872507</td>\n",
       "      <td>161.269720</td>\n",
       "      <td>3.909808</td>\n",
       "      <td>170.646511</td>\n",
       "      <td>67.630428</td>\n",
       "      <td>103.709822</td>\n",
       "      <td>5.529732</td>\n",
       "      <td>374.686970</td>\n",
       "      <td>nonMalignant</td>\n",
       "    </tr>\n",
       "  </tbody>\n",
       "</table>\n",
       "</div>"
      ],
      "text/plain": [
       "                     ENSG00000142089  ENSG00000114439  ENSG00000109971  \\\n",
       "1-Vumc-HD-101-TR922        67.059569         8.627443        41.248578   \n",
       "2-Vumc-HD-103-TR923        78.833667        19.331437       389.800978   \n",
       "3-Vumc-HD-108-TR924       162.642851        18.138539       415.679187   \n",
       "4-Vumc-HD-127-TR925       392.688648        12.747787       175.534393   \n",
       "5-Vumc-HD-130-TR926       233.628460        13.872507       161.269720   \n",
       "\n",
       "                     ENSG00000096060  ENSG00000177556  ENSG00000071859  \\\n",
       "1-Vumc-HD-101-TR922         4.489009        68.950936        85.789872   \n",
       "2-Vumc-HD-103-TR923        23.494897        97.368677        87.399163   \n",
       "3-Vumc-HD-108-TR924        23.496555       159.133155        73.465689   \n",
       "4-Vumc-HD-127-TR925         3.852725       192.408193       114.654656   \n",
       "5-Vumc-HD-130-TR926         3.909808       170.646511        67.630428   \n",
       "\n",
       "                     ENSG00000198168  ENSG00000215301  ENSG00000142546  \\\n",
       "1-Vumc-HD-101-TR922       147.288125        21.586292        47.175239   \n",
       "2-Vumc-HD-103-TR923        63.834012        22.152919       473.977402   \n",
       "3-Vumc-HD-108-TR924       101.289140        64.458085       258.482264   \n",
       "4-Vumc-HD-127-TR925        72.006330        10.897996       629.017688   \n",
       "5-Vumc-HD-130-TR926       103.709822         5.529732       374.686970   \n",
       "\n",
       "                      Class_group  \n",
       "1-Vumc-HD-101-TR922  nonMalignant  \n",
       "2-Vumc-HD-103-TR923  nonMalignant  \n",
       "3-Vumc-HD-108-TR924  nonMalignant  \n",
       "4-Vumc-HD-127-TR925  nonMalignant  \n",
       "5-Vumc-HD-130-TR926  nonMalignant  "
      ]
     },
     "execution_count": 65,
     "metadata": {},
     "output_type": "execute_result"
    }
   ],
   "source": [
    "list_of_columns = list_of_genes_r + ['Class_group']\n",
    "df_class = df_class[list_of_columns]\n",
    "df_class.head(5)"
   ]
  },
  {
   "cell_type": "code",
   "execution_count": 66,
   "metadata": {},
   "outputs": [
    {
     "data": {
      "text/plain": [
       "(2351, 10)"
      ]
     },
     "execution_count": 66,
     "metadata": {},
     "output_type": "execute_result"
    }
   ],
   "source": [
    "df_class.shape"
   ]
  },
  {
   "attachments": {},
   "cell_type": "markdown",
   "metadata": {},
   "source": [
    "### Check data Distribution"
   ]
  },
  {
   "cell_type": "code",
   "execution_count": 67,
   "metadata": {},
   "outputs": [],
   "source": [
    "# Check data distribution\n",
    "# If data is normally distributed (in more general sense, symmetrically distributed), then the result with PCA is more robust.\n",
    "# Otherwise, It is better to use t-SNE\n"
   ]
  },
  {
   "cell_type": "code",
   "execution_count": 68,
   "metadata": {},
   "outputs": [
    {
     "data": {
      "image/png": "[encoded data removed]",
      "text/plain": [
       "<Figure size 1080x360 with 3 Axes>"
      ]
     },
     "metadata": {
      "needs_background": "light"
     },
     "output_type": "display_data"
    }
   ],
   "source": [
    "# Represent the genes distribution\n",
    "fig, ax = plt.subplots(1, 3, figsize=(15, 5))\n",
    "sns.boxplot(x=df[list_of_genes_r[0]], ax=ax[0])\n",
    "sns.boxplot(x=df[list_of_genes_r[1]], ax=ax[1])\n",
    "sns.boxplot(x=df[list_of_genes_r[2]], ax=ax[2])\n",
    "plt.show()"
   ]
  },
  {
   "attachments": {},
   "cell_type": "markdown",
   "metadata": {},
   "source": [
    "They are clearly not simetrical and not following a normal distribution.\n",
    "\n",
    "We can also perform a Shapiro-Wilk Test. If the p-value of the test is greater than α = .05, then the data is assumed to be normally distributed.\n"
   ]
  },
  {
   "cell_type": "code",
   "execution_count": 69,
   "metadata": {},
   "outputs": [
    {
     "data": {
      "text/plain": [
       "ShapiroResult(statistic=0.6144758462905884, pvalue=0.0)"
      ]
     },
     "execution_count": 69,
     "metadata": {},
     "output_type": "execute_result"
    }
   ],
   "source": [
    "np.random.seed(42)\n",
    "shapiro(df[list_of_genes_r[0]])"
   ]
  },
  {
   "attachments": {},
   "cell_type": "markdown",
   "metadata": {},
   "source": [
    "Since the p-value is less than .05, we reject the null hypothesis of the Shapiro-Wilk test.\n",
    "\n",
    "This means we have sufficient evidence to say that the sample data does not come from a normal distribution."
   ]
  },
  {
   "cell_type": "code",
   "execution_count": 70,
   "metadata": {},
   "outputs": [
    {
     "data": {
      "text/plain": [
       "ShapiroResult(statistic=0.7752242088317871, pvalue=0.0)"
      ]
     },
     "execution_count": 70,
     "metadata": {},
     "output_type": "execute_result"
    }
   ],
   "source": [
    "shapiro(df[list_of_genes_r[1]])"
   ]
  },
  {
   "cell_type": "code",
   "execution_count": 71,
   "metadata": {},
   "outputs": [
    {
     "data": {
      "text/plain": [
       "ShapiroResult(statistic=0.7244303226470947, pvalue=0.0)"
      ]
     },
     "execution_count": 71,
     "metadata": {},
     "output_type": "execute_result"
    }
   ],
   "source": [
    "shapiro(df[list_of_genes_r[2]])"
   ]
  },
  {
   "attachments": {},
   "cell_type": "markdown",
   "metadata": {},
   "source": [
    "Same for the other two genes tested."
   ]
  },
  {
   "attachments": {},
   "cell_type": "markdown",
   "metadata": {},
   "source": [
    "### Apply tSNE to look for abnormalities (Malignant vs. nonMalignant)"
   ]
  },
  {
   "cell_type": "code",
   "execution_count": 72,
   "metadata": {},
   "outputs": [
    {
     "name": "stdout",
     "output_type": "stream",
     "text": [
      "[t-SNE] Computing 91 nearest neighbors...\n",
      "[t-SNE] Indexed 2351 samples in 0.003s...\n",
      "[t-SNE] Computed neighbors for 2351 samples in 0.067s...\n",
      "[t-SNE] Computed conditional probabilities for sample 1000 / 2351\n",
      "[t-SNE] Computed conditional probabilities for sample 2000 / 2351\n",
      "[t-SNE] Computed conditional probabilities for sample 2351 / 2351\n",
      "[t-SNE] Mean sigma: 47.970049\n",
      "[t-SNE] KL divergence after 250 iterations with early exaggeration: 71.512978\n",
      "[t-SNE] KL divergence after 4000 iterations: 1.204949\n"
     ]
    },
    {
     "data": {
      "text/plain": [
       "[Text(0.5, 1.0, 'tSNE')]"
      ]
     },
     "execution_count": 72,
     "metadata": {},
     "output_type": "execute_result"
    },
    {
     "data": {
      "image/png": "[encoded data removed]",
      "text/plain": [
       "<Figure size 432x288 with 1 Axes>"
      ]
     },
     "metadata": {
      "needs_background": "light"
     },
     "output_type": "display_data"
    }
   ],
   "source": [
    "X = df_class[list_of_columns[0:-1]]\n",
    "y = df_class[list_of_columns[-1]]\n",
    "\n",
    "tsne = TSNE(n_components=2, verbose=1, random_state=42, learning_rate='auto', init='random', n_iter=4000)\n",
    "z = tsne.fit_transform(X)\n",
    "\n",
    "df_z = pd.DataFrame()\n",
    "df_z[\"y\"] = y\n",
    "df_z[\"comp-1\"] = z[:,0]\n",
    "df_z[\"comp-2\"] = z[:,1]\n",
    "\n",
    "sns.scatterplot(x=\"comp-1\", y=\"comp-2\", hue=df_z.y.tolist(),\n",
    "                palette=sns.color_palette(\"hls\", 2),\n",
    "                data=df_z).set(title=\"tSNE\") "
   ]
  },
  {
   "attachments": {},
   "cell_type": "markdown",
   "metadata": {},
   "source": [
    "### Apply PCA to look for abnormalities (although we know data does not follow a normal distribution)\n"
   ]
  },
  {
   "cell_type": "code",
   "execution_count": 73,
   "metadata": {},
   "outputs": [
    {
     "name": "stderr",
     "output_type": "stream",
     "text": [
      "c:\\Users\\acard\\AppData\\Local\\Programs\\Python\\Python310\\lib\\site-packages\\seaborn\\_decorators.py:36: FutureWarning: Pass the following variables as keyword args: x, y. From version 0.12, the only valid positional argument will be `data`, and passing other arguments without an explicit keyword will result in an error or misinterpretation.\n",
      "  warnings.warn(\n"
     ]
    },
    {
     "data": {
      "text/plain": [
       "<AxesSubplot:>"
      ]
     },
     "execution_count": 73,
     "metadata": {},
     "output_type": "execute_result"
    },
    {
     "data": {
      "image/png": "[encoded data removed]",
      "text/plain": [
       "<Figure size 432x288 with 1 Axes>"
      ]
     },
     "metadata": {
      "needs_background": "light"
     },
     "output_type": "display_data"
    }
   ],
   "source": [
    "X = df_class[list_of_columns[0:-1]]\n",
    "y = df_class[list_of_columns[-1]]\n",
    "\n",
    "pca = PCA(n_components=2, random_state=42)\n",
    "z = pca.fit_transform(X)\n",
    "\n",
    "sns.scatterplot(z[:, 0], z[:, 1], hue=y.tolist(), palette=sns.color_palette(\"hls\", 2))"
   ]
  },
  {
   "cell_type": "code",
   "execution_count": 76,
   "metadata": {},
   "outputs": [
    {
     "name": "stdout",
     "output_type": "stream",
     "text": [
      "[465, 550, 1206, 1488, 1577, 1768, 1967, 2183]\n"
     ]
    }
   ],
   "source": [
    "# Find potential outliers\n",
    "threshold = 2000\n",
    "index_outliers_PCA = [i for i,v in enumerate(z) if (v[0] > threshold or v[1] > threshold)]\n",
    "print(index_outliers_PCA)\n",
    "\n",
    "# print(y.iloc[[index_outliers[0]]])\n",
    "# print(y.iloc[[index_outliers[1]]])"
   ]
  },
  {
   "attachments": {},
   "cell_type": "markdown",
   "metadata": {},
   "source": [
    "### Apply robust PCA (rPCA) to look for abnormalities"
   ]
  },
  {
   "cell_type": "code",
   "execution_count": 77,
   "metadata": {},
   "outputs": [],
   "source": [
    "# Download and import robust PCA from https://github.com/dganguli/robust-pca\n",
    "# https://stackoverflow.com/questions/40721260/how-to-use-robust-pca-output-as-principal-component-eigenvectors-from-traditio\n",
    "from robust_pca_master.r_pca import R_pca"
   ]
  },
  {
   "attachments": {},
   "cell_type": "markdown",
   "metadata": {},
   "source": [
    "The robust-pca code factors the data matrix X into two matrices, L and S which are \"low-rank\" and \"sparse\" matrices. \n",
    "* L is what's mostly constant between the various observations, while \n",
    "* S is what varies. \n",
    "\n",
    "If you just want the eigenvectors, treat the S as junk (the \"large outliers\" you're wanting to clip out) and do an eigenanalysis on the L matrix."
   ]
  },
  {
   "cell_type": "code",
   "execution_count": 78,
   "metadata": {},
   "outputs": [
    {
     "name": "stdout",
     "output_type": "stream",
     "text": [
      "iteration: 1, error: 166.10539853776277\n",
      "iteration: 100, error: 2.5116364882206716\n",
      "iteration: 200, error: 2.206987696296707\n",
      "iteration: 300, error: 1.329017463710063\n",
      "iteration: 400, error: 0.9285780733070159\n",
      "iteration: 500, error: 0.5439827912694704\n",
      "iteration: 600, error: 0.3580279467699644\n",
      "iteration: 700, error: 0.15640851234085473\n",
      "iteration: 800, error: 0.12847940532739666\n",
      "iteration: 900, error: 0.044115685978193875\n",
      "iteration: 1000, error: 0.027328191340354257\n"
     ]
    },
    {
     "name": "stderr",
     "output_type": "stream",
     "text": [
      "c:\\Users\\acard\\AppData\\Local\\Programs\\Python\\Python310\\lib\\site-packages\\seaborn\\_decorators.py:36: FutureWarning: Pass the following variables as keyword args: x, y. From version 0.12, the only valid positional argument will be `data`, and passing other arguments without an explicit keyword will result in an error or misinterpretation.\n",
      "  warnings.warn(\n"
     ]
    },
    {
     "data": {
      "text/plain": [
       "<AxesSubplot:>"
      ]
     },
     "execution_count": 78,
     "metadata": {},
     "output_type": "execute_result"
    },
    {
     "data": {
      "image/png": "[encoded data removed]",
      "text/plain": [
       "<Figure size 432x288 with 1 Axes>"
      ]
     },
     "metadata": {
      "needs_background": "light"
     },
     "output_type": "display_data"
    }
   ],
   "source": [
    "X = df_class[list_of_columns[0:-1]]\n",
    "y = df_class[list_of_columns[-1]]\n",
    "\n",
    "L, S = R_pca(X).fit()\n",
    "\n",
    "pca = PCA(n_components=2, random_state=42)\n",
    "z = pca.fit_transform(L)\n",
    "\n",
    "sns.scatterplot(z[:, 0], z[:, 1], hue=y.tolist(), palette=sns.color_palette(\"hls\", 2))"
   ]
  },
  {
   "cell_type": "code",
   "execution_count": 79,
   "metadata": {},
   "outputs": [
    {
     "name": "stdout",
     "output_type": "stream",
     "text": [
      "[1752, 1768]\n"
     ]
    }
   ],
   "source": [
    "# Find potential outliers\n",
    "threshold = 300\n",
    "index_outliers_rPCA = [i for i,v in enumerate(z) if v[0] > threshold]\n",
    "print(index_outliers_rPCA)\n",
    "\n"
   ]
  },
  {
   "cell_type": "code",
   "execution_count": null,
   "metadata": {},
   "outputs": [],
   "source": []
  },
  {
   "attachments": {},
   "cell_type": "markdown",
   "metadata": {},
   "source": [
    "### Apply Multivariate outlier detection with PyOD"
   ]
  },
  {
   "attachments": {},
   "cell_type": "markdown",
   "metadata": {},
   "source": [
    "Idea from https://towardsdatascience.com/how-to-perform-multivariate-outlier-detection-in-python-pyod-for-machine-learning-b0a9c557a21c\n",
    "\n",
    "PyOD is the most comprehensive and scalable Python library for detecting outlying objects in multivariate data. "
   ]
  },
  {
   "attachments": {},
   "cell_type": "markdown",
   "metadata": {},
   "source": [
    "Isolation Forest: works on almost any type of dataset but is specifically designed for high-dimensional, complex ones. Even though it is a collection of different type of decision trees, called ITrees, it is fast and has a high performance. It can also handle data with irregular, non-normal distributions.\n",
    "\n",
    "Local Outlier Factor: particularly good for datasets with data points that are clustered together as it calculates anomaly scores using local density. It works well with high-dimensional data and can be faster than IForest"
   ]
  },
  {
   "attachments": {},
   "cell_type": "markdown",
   "metadata": {},
   "source": [
    "@article{zhao2019pyod,\n",
    "    author  = {Zhao, Yue and Nasrullah, Zain and Li, Zheng},\n",
    "    title   = {PyOD: A Python Toolbox for Scalable Outlier Detection},\n",
    "    journal = {Journal of Machine Learning Research},\n",
    "    year    = {2019},\n",
    "    volume  = {20},\n",
    "    number  = {96},\n",
    "    pages   = {1-7},\n",
    "    url     = {http://jmlr.org/papers/v20/19-011.html}\n",
    "}"
   ]
  },
  {
   "cell_type": "code",
   "execution_count": 80,
   "metadata": {},
   "outputs": [
    {
     "name": "stderr",
     "output_type": "stream",
     "text": [
      "c:\\Users\\acard\\AppData\\Local\\Programs\\Python\\Python310\\lib\\site-packages\\sklearn\\base.py:443: UserWarning: X has feature names, but IsolationForest was fitted without feature names\n",
      "  warnings.warn(\n"
     ]
    },
    {
     "name": "stdout",
     "output_type": "stream",
     "text": [
      "The number of outliers: 3\n",
      "Percentage of outliers: 0.0013\n"
     ]
    }
   ],
   "source": [
    "X = df_class[list_of_columns[0:-1]]\n",
    "y = df_class[list_of_columns[-1]]\n",
    "\n",
    "# pip install pyod\n",
    "# from pyod.models.lof import LOF\n",
    "from pyod.models.iforest import IForest\n",
    "\n",
    "# predict_proba returns two columns for each sample:\n",
    "#     the first column is the probability of the sample being an inlier and \n",
    "#     the second is the probability of the sample being an outlier. \n",
    "\n",
    "iforest = IForest(n_estimators=500).fit(X)\n",
    "probs = iforest.predict_proba(X)\n",
    "\n",
    "# We can select samples that have at least 80%, 90%, or n% outlier probability.\n",
    "# Set a confidence threshold to choose outliers based on probability confidence\n",
    "# If you are dealing with sensitive data like medical records where it is critical to avoid false positives, \n",
    "# you should aim for over 90%. 95% and 99% are pretty common as well.\n",
    "threshold = 0.9\n",
    "\n",
    "# Create a mask that returns True if probs over threshold\n",
    "is_outlier = probs[:, 1] > threshold\n",
    "outliers_X_probs_IF = X[is_outlier]\n",
    "\n",
    "# Count up the outliers\n",
    "num_outliers = len(outliers_X_probs_IF)\n",
    "print(f\"The number of outliers: {num_outliers}\")\n",
    "print(f\"Percentage of outliers: {num_outliers / len(X):.4f}\")\n"
   ]
  },
  {
   "cell_type": "code",
   "execution_count": 81,
   "metadata": {},
   "outputs": [
    {
     "data": {
      "text/html": [
       "<div>\n",
       "<style scoped>\n",
       "    .dataframe tbody tr th:only-of-type {\n",
       "        vertical-align: middle;\n",
       "    }\n",
       "\n",
       "    .dataframe tbody tr th {\n",
       "        vertical-align: top;\n",
       "    }\n",
       "\n",
       "    .dataframe thead th {\n",
       "        text-align: right;\n",
       "    }\n",
       "</style>\n",
       "<table border=\"1\" class=\"dataframe\">\n",
       "  <thead>\n",
       "    <tr style=\"text-align: right;\">\n",
       "      <th></th>\n",
       "      <th>ENSG00000142089</th>\n",
       "      <th>ENSG00000114439</th>\n",
       "      <th>ENSG00000109971</th>\n",
       "      <th>ENSG00000096060</th>\n",
       "      <th>ENSG00000177556</th>\n",
       "      <th>ENSG00000071859</th>\n",
       "      <th>ENSG00000198168</th>\n",
       "      <th>ENSG00000215301</th>\n",
       "      <th>ENSG00000142546</th>\n",
       "    </tr>\n",
       "  </thead>\n",
       "  <tbody>\n",
       "    <tr>\n",
       "      <th>640-NKI-Sarc-2576-TR2445</th>\n",
       "      <td>3194.446287</td>\n",
       "      <td>52.552430</td>\n",
       "      <td>15.878103</td>\n",
       "      <td>46.655607</td>\n",
       "      <td>1279.226012</td>\n",
       "      <td>780.998299</td>\n",
       "      <td>426.301354</td>\n",
       "      <td>0.000000</td>\n",
       "      <td>77.826401</td>\n",
       "    </tr>\n",
       "    <tr>\n",
       "      <th>2622-UMCG-NSCLC-988-TR2788</th>\n",
       "      <td>1885.905442</td>\n",
       "      <td>58.841240</td>\n",
       "      <td>74.668411</td>\n",
       "      <td>41.791008</td>\n",
       "      <td>736.615339</td>\n",
       "      <td>971.620331</td>\n",
       "      <td>387.638212</td>\n",
       "      <td>0.000000</td>\n",
       "      <td>1254.811403</td>\n",
       "    </tr>\n",
       "    <tr>\n",
       "      <th>2709-UMCG-NCSLC-1081-TR3028</th>\n",
       "      <td>352.399171</td>\n",
       "      <td>46.499853</td>\n",
       "      <td>655.102857</td>\n",
       "      <td>116.376432</td>\n",
       "      <td>855.356065</td>\n",
       "      <td>719.568524</td>\n",
       "      <td>360.547577</td>\n",
       "      <td>35.587868</td>\n",
       "      <td>2679.753165</td>\n",
       "    </tr>\n",
       "  </tbody>\n",
       "</table>\n",
       "</div>"
      ],
      "text/plain": [
       "                             ENSG00000142089  ENSG00000114439  \\\n",
       "640-NKI-Sarc-2576-TR2445         3194.446287        52.552430   \n",
       "2622-UMCG-NSCLC-988-TR2788       1885.905442        58.841240   \n",
       "2709-UMCG-NCSLC-1081-TR3028       352.399171        46.499853   \n",
       "\n",
       "                             ENSG00000109971  ENSG00000096060  \\\n",
       "640-NKI-Sarc-2576-TR2445           15.878103        46.655607   \n",
       "2622-UMCG-NSCLC-988-TR2788         74.668411        41.791008   \n",
       "2709-UMCG-NCSLC-1081-TR3028       655.102857       116.376432   \n",
       "\n",
       "                             ENSG00000177556  ENSG00000071859  \\\n",
       "640-NKI-Sarc-2576-TR2445         1279.226012       780.998299   \n",
       "2622-UMCG-NSCLC-988-TR2788        736.615339       971.620331   \n",
       "2709-UMCG-NCSLC-1081-TR3028       855.356065       719.568524   \n",
       "\n",
       "                             ENSG00000198168  ENSG00000215301  ENSG00000142546  \n",
       "640-NKI-Sarc-2576-TR2445          426.301354         0.000000        77.826401  \n",
       "2622-UMCG-NSCLC-988-TR2788        387.638212         0.000000      1254.811403  \n",
       "2709-UMCG-NCSLC-1081-TR3028       360.547577        35.587868      2679.753165  "
      ]
     },
     "execution_count": 81,
     "metadata": {},
     "output_type": "execute_result"
    }
   ],
   "source": [
    "outliers_X_probs_IF"
   ]
  },
  {
   "cell_type": "code",
   "execution_count": 85,
   "metadata": {},
   "outputs": [
    {
     "name": "stdout",
     "output_type": "stream",
     "text": [
      "[[550], [1699], [1768]]\n"
     ]
    }
   ],
   "source": [
    "index_outliers_IF = np.argwhere(is_outlier == True).tolist()\n",
    "print(index_outliers_IF)"
   ]
  },
  {
   "cell_type": "code",
   "execution_count": 87,
   "metadata": {},
   "outputs": [
    {
     "name": "stdout",
     "output_type": "stream",
     "text": [
      "The number of outliers: 1\n",
      "Percentage of outliers: 0.0004\n"
     ]
    }
   ],
   "source": [
    "X = df_class[list_of_columns[0:-1]]\n",
    "y = df_class[list_of_columns[-1]]\n",
    "\n",
    "# pip install pyod\n",
    "from pyod.models.lof import LOF\n",
    "# from pyod.models.iforest import IForest\n",
    "\n",
    "# predict_proba returns two columns for each sample:\n",
    "#     the first column is the probability of the sample being an inlier and \n",
    "#     the second is the probability of the sample being an outlier. \n",
    "\n",
    "lof = LOF(n_neighbors=30).fit(X)\n",
    "probs = lof.predict_proba(X)\n",
    "\n",
    "# We can select samples that have at least 80%, 90%, or n% outlier probability.\n",
    "# Set a confidence threshold to choose outliers based on probability confidence\n",
    "# If you are dealing with sensitive data like medical records where it is critical to avoid false positives, \n",
    "# you should aim for over 90%. 95% and 99% are pretty common as well.\n",
    "threshold = 0.9\n",
    "\n",
    "# Create a mask that returns True if probs over threshold\n",
    "is_outlier = probs[:, 1] > threshold\n",
    "outliers_X_probs_LOF = X[is_outlier]\n",
    "\n",
    "# Count up the outliers\n",
    "num_outliers = len(outliers_X_probs_LOF)\n",
    "print(f\"The number of outliers: {num_outliers}\")\n",
    "print(f\"Percentage of outliers: {num_outliers / len(X):.4f}\")"
   ]
  },
  {
   "cell_type": "code",
   "execution_count": 88,
   "metadata": {},
   "outputs": [
    {
     "data": {
      "text/html": [
       "<div>\n",
       "<style scoped>\n",
       "    .dataframe tbody tr th:only-of-type {\n",
       "        vertical-align: middle;\n",
       "    }\n",
       "\n",
       "    .dataframe tbody tr th {\n",
       "        vertical-align: top;\n",
       "    }\n",
       "\n",
       "    .dataframe thead th {\n",
       "        text-align: right;\n",
       "    }\n",
       "</style>\n",
       "<table border=\"1\" class=\"dataframe\">\n",
       "  <thead>\n",
       "    <tr style=\"text-align: right;\">\n",
       "      <th></th>\n",
       "      <th>ENSG00000142089</th>\n",
       "      <th>ENSG00000114439</th>\n",
       "      <th>ENSG00000109971</th>\n",
       "      <th>ENSG00000096060</th>\n",
       "      <th>ENSG00000177556</th>\n",
       "      <th>ENSG00000071859</th>\n",
       "      <th>ENSG00000198168</th>\n",
       "      <th>ENSG00000215301</th>\n",
       "      <th>ENSG00000142546</th>\n",
       "    </tr>\n",
       "  </thead>\n",
       "  <tbody>\n",
       "    <tr>\n",
       "      <th>2761-TR4683-NSCLC-NKI</th>\n",
       "      <td>523.033328</td>\n",
       "      <td>78.123565</td>\n",
       "      <td>157.966049</td>\n",
       "      <td>39.124714</td>\n",
       "      <td>17.912176</td>\n",
       "      <td>89.309157</td>\n",
       "      <td>51.703116</td>\n",
       "      <td>779.72032</td>\n",
       "      <td>73.422099</td>\n",
       "    </tr>\n",
       "  </tbody>\n",
       "</table>\n",
       "</div>"
      ],
      "text/plain": [
       "                       ENSG00000142089  ENSG00000114439  ENSG00000109971  \\\n",
       "2761-TR4683-NSCLC-NKI       523.033328        78.123565       157.966049   \n",
       "\n",
       "                       ENSG00000096060  ENSG00000177556  ENSG00000071859  \\\n",
       "2761-TR4683-NSCLC-NKI        39.124714        17.912176        89.309157   \n",
       "\n",
       "                       ENSG00000198168  ENSG00000215301  ENSG00000142546  \n",
       "2761-TR4683-NSCLC-NKI        51.703116        779.72032        73.422099  "
      ]
     },
     "execution_count": 88,
     "metadata": {},
     "output_type": "execute_result"
    }
   ],
   "source": [
    "outliers_X_probs_LOF"
   ]
  },
  {
   "cell_type": "code",
   "execution_count": 89,
   "metadata": {},
   "outputs": [
    {
     "name": "stdout",
     "output_type": "stream",
     "text": [
      "[[1804]]\n"
     ]
    }
   ],
   "source": [
    "index_outliers_LOF = np.argwhere(is_outlier == True).tolist()\n",
    "print(index_outliers_LOF)"
   ]
  },
  {
   "attachments": {},
   "cell_type": "markdown",
   "metadata": {},
   "source": [
    "### Apply DBSCAN to look for abnormalities (Malignant vs. nonMalignant)"
   ]
  },
  {
   "attachments": {},
   "cell_type": "markdown",
   "metadata": {},
   "source": [
    "Intenta ajustar el algoritmo DBSCAN para minimizar las diferencias entre ground truth y los clústeres arrojados por el algoritmo. El propio algoritmo DBSCAN, si se ajusta correctamente, sirve también para detectar outliers."
   ]
  },
  {
   "cell_type": "code",
   "execution_count": 106,
   "metadata": {},
   "outputs": [
    {
     "name": "stdout",
     "output_type": "stream",
     "text": [
      "Clusters:  [-1  0  1  2  3  4  5  6]\n",
      "Elements per cluster:  [ 432 1888    5    6    6    5    5    4]\n"
     ]
    }
   ],
   "source": [
    "X = df_class[list_of_columns[0:-1]]\n",
    "y = df_class[list_of_columns[-1]]\n",
    "# Apply DBSCAN\n",
    "# Cluster labels. Noisy samples are given the label -1.\n",
    "# Find eps and min_samples to obtain 2 groups\n",
    "dbscan = DBSCAN(eps=150, min_samples=5)\n",
    "clusters = dbscan.fit_predict(X)\n",
    "unique, counts = np.unique(clusters, return_counts=True)\n",
    "print(\"Clusters: \", unique)\n",
    "print(\"Elements per cluster: \", counts)"
   ]
  },
  {
   "cell_type": "code",
   "execution_count": 107,
   "metadata": {},
   "outputs": [],
   "source": [
    "# index_outliers_DBSCAN = np.argwhere(clusters == -1).tolist()\n",
    "# print(index_outliers_DBSCAN)\n"
   ]
  },
  {
   "cell_type": "code",
   "execution_count": 30,
   "metadata": {},
   "outputs": [],
   "source": [
    "#DBSCAN performance:\n",
    "# A mayor ARI, mejor\n",
    "# print(\"ARI =\", adjusted_rand_score(y, clusters))"
   ]
  },
  {
   "attachments": {},
   "cell_type": "markdown",
   "metadata": {},
   "source": [
    "### Merge all the information"
   ]
  },
  {
   "cell_type": "code",
   "execution_count": 112,
   "metadata": {},
   "outputs": [
    {
     "name": "stdout",
     "output_type": "stream",
     "text": [
      "Outliers from PCA:  [465, 550, 1206, 1488, 1577, 1768, 1967, 2183]\n",
      "Outliers from rPCA:  [1752, 1768]\n",
      "Outliers from IF:  [550, 1699, 1768]\n",
      "Outliers from LOF:  [1804]\n"
     ]
    }
   ],
   "source": [
    "print(\"Outliers from PCA: \", index_outliers_PCA)\n",
    "print(\"Outliers from rPCA: \", index_outliers_rPCA)\n",
    "\n",
    "index_outliers_IF_flat = [item for sublist in index_outliers_IF for item in sublist]\n",
    "print(\"Outliers from IF: \", index_outliers_IF_flat)\n",
    "\n",
    "index_outliers_LOF_flat = [item for sublist in index_outliers_LOF for item in sublist]\n",
    "print(\"Outliers from LOF: \", index_outliers_LOF_flat)\n"
   ]
  },
  {
   "cell_type": "code",
   "execution_count": 115,
   "metadata": {},
   "outputs": [
    {
     "name": "stdout",
     "output_type": "stream",
     "text": [
      "[1768, 550]\n"
     ]
    }
   ],
   "source": [
    "# Criteria: remove those outliers that appear at least in 2 lists\n",
    "index_outliers_total = index_outliers_PCA + index_outliers_rPCA + index_outliers_IF_flat + index_outliers_LOF_flat\n",
    "index_outliers_repeated = list(set([i for i in index_outliers_total if index_outliers_total.count(i)>1]))\n",
    "print(index_outliers_repeated)"
   ]
  },
  {
   "attachments": {},
   "cell_type": "markdown",
   "metadata": {},
   "source": [
    "### Remove outliers and save dataset"
   ]
  },
  {
   "cell_type": "code",
   "execution_count": 120,
   "metadata": {},
   "outputs": [
    {
     "name": "stdout",
     "output_type": "stream",
     "text": [
      "(2351, 5261)\n"
     ]
    },
    {
     "data": {
      "text/html": [
       "<div>\n",
       "<style scoped>\n",
       "    .dataframe tbody tr th:only-of-type {\n",
       "        vertical-align: middle;\n",
       "    }\n",
       "\n",
       "    .dataframe tbody tr th {\n",
       "        vertical-align: top;\n",
       "    }\n",
       "\n",
       "    .dataframe thead th {\n",
       "        text-align: right;\n",
       "    }\n",
       "</style>\n",
       "<table border=\"1\" class=\"dataframe\">\n",
       "  <thead>\n",
       "    <tr style=\"text-align: right;\">\n",
       "      <th></th>\n",
       "      <th>ENSG00000000419</th>\n",
       "      <th>ENSG00000000460</th>\n",
       "      <th>ENSG00000000938</th>\n",
       "      <th>ENSG00000001036</th>\n",
       "      <th>ENSG00000001461</th>\n",
       "      <th>ENSG00000001497</th>\n",
       "      <th>ENSG00000001629</th>\n",
       "      <th>ENSG00000001631</th>\n",
       "      <th>ENSG00000002330</th>\n",
       "      <th>ENSG00000002549</th>\n",
       "      <th>...</th>\n",
       "      <th>Sample ID</th>\n",
       "      <th>Stage</th>\n",
       "      <th>Sex</th>\n",
       "      <th>Age</th>\n",
       "      <th>Sample-supplying institution</th>\n",
       "      <th>Training series</th>\n",
       "      <th>Evaluation series</th>\n",
       "      <th>Validation series</th>\n",
       "      <th>Class_group</th>\n",
       "      <th>Patient_group</th>\n",
       "    </tr>\n",
       "  </thead>\n",
       "  <tbody>\n",
       "    <tr>\n",
       "      <th>1-Vumc-HD-101-TR922</th>\n",
       "      <td>3.93780</td>\n",
       "      <td>1.555228</td>\n",
       "      <td>7.445603</td>\n",
       "      <td>13.655275</td>\n",
       "      <td>11.121538</td>\n",
       "      <td>3.471206</td>\n",
       "      <td>5.986674</td>\n",
       "      <td>4.978068</td>\n",
       "      <td>46.477912</td>\n",
       "      <td>25.632179</td>\n",
       "      <td>...</td>\n",
       "      <td>Vumc-HD-101-TR922</td>\n",
       "      <td>NaN</td>\n",
       "      <td>F</td>\n",
       "      <td>35.0</td>\n",
       "      <td>Institute 13</td>\n",
       "      <td>1</td>\n",
       "      <td>0</td>\n",
       "      <td>0</td>\n",
       "      <td>nonMalignant</td>\n",
       "      <td>Asymptomatic controls</td>\n",
       "    </tr>\n",
       "    <tr>\n",
       "      <th>2-Vumc-HD-103-TR923</th>\n",
       "      <td>67.84106</td>\n",
       "      <td>2.119756</td>\n",
       "      <td>113.660546</td>\n",
       "      <td>18.024223</td>\n",
       "      <td>2.863275</td>\n",
       "      <td>15.139871</td>\n",
       "      <td>3.036190</td>\n",
       "      <td>18.222689</td>\n",
       "      <td>40.741981</td>\n",
       "      <td>42.549333</td>\n",
       "      <td>...</td>\n",
       "      <td>Vumc-HD-103-TR923</td>\n",
       "      <td>NaN</td>\n",
       "      <td>F</td>\n",
       "      <td>54.0</td>\n",
       "      <td>Institute 13</td>\n",
       "      <td>0</td>\n",
       "      <td>1</td>\n",
       "      <td>0</td>\n",
       "      <td>nonMalignant</td>\n",
       "      <td>Asymptomatic controls</td>\n",
       "    </tr>\n",
       "  </tbody>\n",
       "</table>\n",
       "<p>2 rows × 5261 columns</p>\n",
       "</div>"
      ],
      "text/plain": [
       "                     ENSG00000000419  ENSG00000000460  ENSG00000000938  \\\n",
       "1-Vumc-HD-101-TR922          3.93780         1.555228         7.445603   \n",
       "2-Vumc-HD-103-TR923         67.84106         2.119756       113.660546   \n",
       "\n",
       "                     ENSG00000001036  ENSG00000001461  ENSG00000001497  \\\n",
       "1-Vumc-HD-101-TR922        13.655275        11.121538         3.471206   \n",
       "2-Vumc-HD-103-TR923        18.024223         2.863275        15.139871   \n",
       "\n",
       "                     ENSG00000001629  ENSG00000001631  ENSG00000002330  \\\n",
       "1-Vumc-HD-101-TR922         5.986674         4.978068        46.477912   \n",
       "2-Vumc-HD-103-TR923         3.036190        18.222689        40.741981   \n",
       "\n",
       "                     ENSG00000002549  ...          Sample ID  Stage  Sex  \\\n",
       "1-Vumc-HD-101-TR922        25.632179  ...  Vumc-HD-101-TR922    NaN    F   \n",
       "2-Vumc-HD-103-TR923        42.549333  ...  Vumc-HD-103-TR923    NaN    F   \n",
       "\n",
       "                      Age  Sample-supplying institution  Training series  \\\n",
       "1-Vumc-HD-101-TR922  35.0                  Institute 13                1   \n",
       "2-Vumc-HD-103-TR923  54.0                  Institute 13                0   \n",
       "\n",
       "                     Evaluation series  Validation series   Class_group  \\\n",
       "1-Vumc-HD-101-TR922                  0                  0  nonMalignant   \n",
       "2-Vumc-HD-103-TR923                  1                  0  nonMalignant   \n",
       "\n",
       "                             Patient_group  \n",
       "1-Vumc-HD-101-TR922  Asymptomatic controls  \n",
       "2-Vumc-HD-103-TR923  Asymptomatic controls  \n",
       "\n",
       "[2 rows x 5261 columns]"
      ]
     },
     "execution_count": 120,
     "metadata": {},
     "output_type": "execute_result"
    }
   ],
   "source": [
    "print(df.shape)\n",
    "df.head(2)"
   ]
  },
  {
   "cell_type": "code",
   "execution_count": 123,
   "metadata": {},
   "outputs": [
    {
     "data": {
      "text/plain": [
       "[1768, 550]"
      ]
     },
     "execution_count": 123,
     "metadata": {},
     "output_type": "execute_result"
    }
   ],
   "source": [
    "index_outliers_repeated"
   ]
  },
  {
   "cell_type": "code",
   "execution_count": 6,
   "metadata": {},
   "outputs": [],
   "source": [
    "# index_outliers_repeated = [1768, 550]"
   ]
  },
  {
   "cell_type": "code",
   "execution_count": 7,
   "metadata": {},
   "outputs": [],
   "source": [
    "df_wo = df.drop(df.index[index_outliers_repeated])"
   ]
  },
  {
   "cell_type": "code",
   "execution_count": 8,
   "metadata": {},
   "outputs": [
    {
     "data": {
      "text/plain": [
       "(2349, 5261)"
      ]
     },
     "execution_count": 8,
     "metadata": {},
     "output_type": "execute_result"
    }
   ],
   "source": [
    "df_wo.shape"
   ]
  },
  {
   "cell_type": "code",
   "execution_count": 9,
   "metadata": {},
   "outputs": [
    {
     "data": {
      "text/html": [
       "<div>\n",
       "<style scoped>\n",
       "    .dataframe tbody tr th:only-of-type {\n",
       "        vertical-align: middle;\n",
       "    }\n",
       "\n",
       "    .dataframe tbody tr th {\n",
       "        vertical-align: top;\n",
       "    }\n",
       "\n",
       "    .dataframe thead th {\n",
       "        text-align: right;\n",
       "    }\n",
       "</style>\n",
       "<table border=\"1\" class=\"dataframe\">\n",
       "  <thead>\n",
       "    <tr style=\"text-align: right;\">\n",
       "      <th></th>\n",
       "      <th>ENSG00000000419</th>\n",
       "      <th>ENSG00000000460</th>\n",
       "      <th>ENSG00000000938</th>\n",
       "      <th>ENSG00000001036</th>\n",
       "      <th>ENSG00000001461</th>\n",
       "      <th>ENSG00000001497</th>\n",
       "      <th>ENSG00000001629</th>\n",
       "      <th>ENSG00000001631</th>\n",
       "      <th>ENSG00000002330</th>\n",
       "      <th>ENSG00000002549</th>\n",
       "      <th>...</th>\n",
       "      <th>Sample ID</th>\n",
       "      <th>Stage</th>\n",
       "      <th>Sex</th>\n",
       "      <th>Age</th>\n",
       "      <th>Sample-supplying institution</th>\n",
       "      <th>Training series</th>\n",
       "      <th>Evaluation series</th>\n",
       "      <th>Validation series</th>\n",
       "      <th>Class_group</th>\n",
       "      <th>Patient_group</th>\n",
       "    </tr>\n",
       "  </thead>\n",
       "  <tbody>\n",
       "    <tr>\n",
       "      <th>1-Vumc-HD-101-TR922</th>\n",
       "      <td>3.93780</td>\n",
       "      <td>1.555228</td>\n",
       "      <td>7.445603</td>\n",
       "      <td>13.655275</td>\n",
       "      <td>11.121538</td>\n",
       "      <td>3.471206</td>\n",
       "      <td>5.986674</td>\n",
       "      <td>4.978068</td>\n",
       "      <td>46.477912</td>\n",
       "      <td>25.632179</td>\n",
       "      <td>...</td>\n",
       "      <td>Vumc-HD-101-TR922</td>\n",
       "      <td>NaN</td>\n",
       "      <td>F</td>\n",
       "      <td>35.0</td>\n",
       "      <td>Institute 13</td>\n",
       "      <td>1</td>\n",
       "      <td>0</td>\n",
       "      <td>0</td>\n",
       "      <td>nonMalignant</td>\n",
       "      <td>Asymptomatic controls</td>\n",
       "    </tr>\n",
       "    <tr>\n",
       "      <th>2-Vumc-HD-103-TR923</th>\n",
       "      <td>67.84106</td>\n",
       "      <td>2.119756</td>\n",
       "      <td>113.660546</td>\n",
       "      <td>18.024223</td>\n",
       "      <td>2.863275</td>\n",
       "      <td>15.139871</td>\n",
       "      <td>3.036190</td>\n",
       "      <td>18.222689</td>\n",
       "      <td>40.741981</td>\n",
       "      <td>42.549333</td>\n",
       "      <td>...</td>\n",
       "      <td>Vumc-HD-103-TR923</td>\n",
       "      <td>NaN</td>\n",
       "      <td>F</td>\n",
       "      <td>54.0</td>\n",
       "      <td>Institute 13</td>\n",
       "      <td>0</td>\n",
       "      <td>1</td>\n",
       "      <td>0</td>\n",
       "      <td>nonMalignant</td>\n",
       "      <td>Asymptomatic controls</td>\n",
       "    </tr>\n",
       "  </tbody>\n",
       "</table>\n",
       "<p>2 rows × 5261 columns</p>\n",
       "</div>"
      ],
      "text/plain": [
       "                     ENSG00000000419  ENSG00000000460  ENSG00000000938  \\\n",
       "1-Vumc-HD-101-TR922          3.93780         1.555228         7.445603   \n",
       "2-Vumc-HD-103-TR923         67.84106         2.119756       113.660546   \n",
       "\n",
       "                     ENSG00000001036  ENSG00000001461  ENSG00000001497  \\\n",
       "1-Vumc-HD-101-TR922        13.655275        11.121538         3.471206   \n",
       "2-Vumc-HD-103-TR923        18.024223         2.863275        15.139871   \n",
       "\n",
       "                     ENSG00000001629  ENSG00000001631  ENSG00000002330  \\\n",
       "1-Vumc-HD-101-TR922         5.986674         4.978068        46.477912   \n",
       "2-Vumc-HD-103-TR923         3.036190        18.222689        40.741981   \n",
       "\n",
       "                     ENSG00000002549  ...          Sample ID  Stage  Sex  \\\n",
       "1-Vumc-HD-101-TR922        25.632179  ...  Vumc-HD-101-TR922    NaN    F   \n",
       "2-Vumc-HD-103-TR923        42.549333  ...  Vumc-HD-103-TR923    NaN    F   \n",
       "\n",
       "                      Age  Sample-supplying institution  Training series  \\\n",
       "1-Vumc-HD-101-TR922  35.0                  Institute 13                1   \n",
       "2-Vumc-HD-103-TR923  54.0                  Institute 13                0   \n",
       "\n",
       "                     Evaluation series  Validation series   Class_group  \\\n",
       "1-Vumc-HD-101-TR922                  0                  0  nonMalignant   \n",
       "2-Vumc-HD-103-TR923                  1                  0  nonMalignant   \n",
       "\n",
       "                             Patient_group  \n",
       "1-Vumc-HD-101-TR922  Asymptomatic controls  \n",
       "2-Vumc-HD-103-TR923  Asymptomatic controls  \n",
       "\n",
       "[2 rows x 5261 columns]"
      ]
     },
     "execution_count": 9,
     "metadata": {},
     "output_type": "execute_result"
    }
   ],
   "source": [
    "df_wo.head(2)"
   ]
  },
  {
   "cell_type": "code",
   "execution_count": 10,
   "metadata": {},
   "outputs": [],
   "source": [
    "# Save dataFrame without outliers\n",
    "file='DataPatientsWithGTNoOutliers.csv'\n",
    "df_wo.to_csv(file, sep=';', na_rep='n.a.')"
   ]
  },
  {
   "cell_type": "code",
   "execution_count": null,
   "metadata": {},
   "outputs": [],
   "source": []
  }
 ],
 "metadata": {
  "kernelspec": {
   "display_name": "Python 3.10.5 64-bit",
   "language": "python",
   "name": "python3"
  },
  "language_info": {
   "codemirror_mode": {
    "name": "ipython",
    "version": 3
   },
   "file_extension": ".py",
   "mimetype": "text/x-python",
   "name": "python",
   "nbconvert_exporter": "python",
   "pygments_lexer": "ipython3",
   "version": "3.10.5 (tags/v3.10.5:f377153, Jun  6 2022, 16:14:13) [MSC v.1929 64 bit (AMD64)]"
  },
  "orig_nbformat": 4,
  "vscode": {
   "interpreter": {
    "hash": "7efbd634259f8e5f569f443ec65758432c9a08fec7ecc1e2b0020067d32b9947"
   }
  }
 },
 "nbformat": 4,
 "nbformat_minor": 2
}
