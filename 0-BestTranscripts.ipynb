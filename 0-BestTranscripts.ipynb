{
 "cells": [
  {
   "attachments": {},
   "cell_type": "markdown",
   "metadata": {},
   "source": [
    "# Gene Annotation (Best transcripts)"
   ]
  },
  {
   "attachments": {},
   "cell_type": "markdown",
   "metadata": {},
   "source": [
    "## Best-transcripts tracks for hg19 "
   ]
  },
  {
   "attachments": {},
   "cell_type": "markdown",
   "metadata": {},
   "source": [
    "In https://genome.ucsc.edu/FAQ/FAQgenes.html#gene we can read:\n",
    "\n",
    "The following gene tracks have \"best-transcripts\" tracks: For hg19 (UCSC Genes on hg19), the knownCanonical table is a subset of the UCSC Genes track. It was generated at UCSC by identifying a canonical isoform for each cluster ID, or gene. Generally, this is the longest isoform. It can be downloaded directly from the hg19 downloads database or by using the Table Browser.  \n",
    "https://genome.ucsc.edu/cgi-bin/hgTrackUi?db=hg19&g=knownGene\n",
    "\n",
    "Data: https://hgdownload.soe.ucsc.edu/goldenPath/hg19/database/knownCanonical.txt.gz"
   ]
  },
  {
   "cell_type": "code",
   "execution_count": 1,
   "metadata": {},
   "outputs": [],
   "source": [
    "# Imports\n",
    "import numpy as np\n",
    "import pandas as pd\n",
    "import matplotlib.pyplot as plt"
   ]
  },
  {
   "cell_type": "code",
   "execution_count": 2,
   "metadata": {},
   "outputs": [
    {
     "data": {
      "text/html": [
       "<div>\n",
       "<style scoped>\n",
       "    .dataframe tbody tr th:only-of-type {\n",
       "        vertical-align: middle;\n",
       "    }\n",
       "\n",
       "    .dataframe tbody tr th {\n",
       "        vertical-align: top;\n",
       "    }\n",
       "\n",
       "    .dataframe thead th {\n",
       "        text-align: right;\n",
       "    }\n",
       "</style>\n",
       "<table border=\"1\" class=\"dataframe\">\n",
       "  <thead>\n",
       "    <tr style=\"text-align: right;\">\n",
       "      <th></th>\n",
       "      <th>Chromosome</th>\n",
       "      <th>Start_position</th>\n",
       "      <th>End_position</th>\n",
       "      <th>cluster</th>\n",
       "      <th>name</th>\n",
       "      <th>UCSC_id</th>\n",
       "    </tr>\n",
       "  </thead>\n",
       "  <tbody>\n",
       "    <tr>\n",
       "      <th>0</th>\n",
       "      <td>chr1</td>\n",
       "      <td>11873</td>\n",
       "      <td>14409</td>\n",
       "      <td>1</td>\n",
       "      <td>uc010nxq.1</td>\n",
       "      <td>uc010nxq.1</td>\n",
       "    </tr>\n",
       "    <tr>\n",
       "      <th>1</th>\n",
       "      <td>chr1</td>\n",
       "      <td>14361</td>\n",
       "      <td>19759</td>\n",
       "      <td>2</td>\n",
       "      <td>uc009viu.3</td>\n",
       "      <td>uc009viu.3</td>\n",
       "    </tr>\n",
       "    <tr>\n",
       "      <th>2</th>\n",
       "      <td>chr1</td>\n",
       "      <td>14406</td>\n",
       "      <td>29370</td>\n",
       "      <td>3</td>\n",
       "      <td>uc009viw.2</td>\n",
       "      <td>uc009viw.2</td>\n",
       "    </tr>\n",
       "    <tr>\n",
       "      <th>3</th>\n",
       "      <td>chr1</td>\n",
       "      <td>34610</td>\n",
       "      <td>36081</td>\n",
       "      <td>4</td>\n",
       "      <td>uc001aak.3</td>\n",
       "      <td>uc001aak.3</td>\n",
       "    </tr>\n",
       "    <tr>\n",
       "      <th>4</th>\n",
       "      <td>chr1</td>\n",
       "      <td>69090</td>\n",
       "      <td>70008</td>\n",
       "      <td>5</td>\n",
       "      <td>uc001aal.1</td>\n",
       "      <td>uc001aal.1</td>\n",
       "    </tr>\n",
       "  </tbody>\n",
       "</table>\n",
       "</div>"
      ],
      "text/plain": [
       "  Chromosome  Start_position  End_position  cluster        name     UCSC_id\n",
       "0       chr1           11873         14409        1  uc010nxq.1  uc010nxq.1\n",
       "1       chr1           14361         19759        2  uc009viu.3  uc009viu.3\n",
       "2       chr1           14406         29370        3  uc009viw.2  uc009viw.2\n",
       "3       chr1           34610         36081        4  uc001aak.3  uc001aak.3\n",
       "4       chr1           69090         70008        5  uc001aal.1  uc001aal.1"
      ]
     },
     "execution_count": 2,
     "metadata": {},
     "output_type": "execute_result"
    }
   ],
   "source": [
    "# Read dataset\n",
    "file_in = 'knownCanonical.txt.gz'\n",
    "df_best_transcripts = pd.read_csv(file_in, sep='\\t', header=None, comment='#')\n",
    "# chrom\t        chrX\t            varchar(255)\tvalues\tChromosome\n",
    "# chromStart\t100627107\t        int(11)\t        range\tStart position (0 based). Represents transcription start for + strand genes, end for - strand genes\n",
    "# chromEnd\t    100636806\t        int(11)\t        range\tEnd position (non-inclusive). Represents transcription end for + strand genes, start for - strand genes\n",
    "# clusterId\t    1\t                int(11)\t        range\tWhich cluster of transcripts this belongs to in knownIsoforms\n",
    "# transcript\tENST00000373020.9\tvarchar(255)\tvalues\tCorresponds to knownGene name field.\n",
    "# protein\t    ENSG00000000003.15\tvarchar(255)\tvalues\tAccession of the associated protein, or UCSC ID in newer tables.\n",
    "df_best_transcripts.columns = ['Chromosome', 'Start_position', 'End_position', 'cluster', 'name', 'UCSC_id']\n",
    "df_best_transcripts.head(5)"
   ]
  },
  {
   "cell_type": "code",
   "execution_count": 3,
   "metadata": {},
   "outputs": [
    {
     "name": "stdout",
     "output_type": "stream",
     "text": [
      "Size:  (31848, 1)\n"
     ]
    },
    {
     "data": {
      "text/html": [
       "<div>\n",
       "<style scoped>\n",
       "    .dataframe tbody tr th:only-of-type {\n",
       "        vertical-align: middle;\n",
       "    }\n",
       "\n",
       "    .dataframe tbody tr th {\n",
       "        vertical-align: top;\n",
       "    }\n",
       "\n",
       "    .dataframe thead th {\n",
       "        text-align: right;\n",
       "    }\n",
       "</style>\n",
       "<table border=\"1\" class=\"dataframe\">\n",
       "  <thead>\n",
       "    <tr style=\"text-align: right;\">\n",
       "      <th></th>\n",
       "      <th>name</th>\n",
       "    </tr>\n",
       "  </thead>\n",
       "  <tbody>\n",
       "    <tr>\n",
       "      <th>0</th>\n",
       "      <td>uc010nxq.1</td>\n",
       "    </tr>\n",
       "    <tr>\n",
       "      <th>1</th>\n",
       "      <td>uc009viu.3</td>\n",
       "    </tr>\n",
       "    <tr>\n",
       "      <th>2</th>\n",
       "      <td>uc009viw.2</td>\n",
       "    </tr>\n",
       "    <tr>\n",
       "      <th>3</th>\n",
       "      <td>uc001aak.3</td>\n",
       "    </tr>\n",
       "    <tr>\n",
       "      <th>4</th>\n",
       "      <td>uc001aal.1</td>\n",
       "    </tr>\n",
       "  </tbody>\n",
       "</table>\n",
       "</div>"
      ],
      "text/plain": [
       "         name\n",
       "0  uc010nxq.1\n",
       "1  uc009viu.3\n",
       "2  uc009viw.2\n",
       "3  uc001aak.3\n",
       "4  uc001aal.1"
      ]
     },
     "execution_count": 3,
     "metadata": {},
     "output_type": "execute_result"
    }
   ],
   "source": [
    "# Remove columns not needed\n",
    "columns_to_remove = ['Chromosome', 'Start_position', 'End_position', 'cluster', 'UCSC_id']\n",
    "df_best_transcripts.drop(columns_to_remove, axis=1, inplace=True)\n",
    "print(\"Size: \", df_best_transcripts.shape)\n",
    "df_best_transcripts.head(5)"
   ]
  },
  {
   "attachments": {},
   "cell_type": "markdown",
   "metadata": {},
   "source": [
    "## Finding the equivalence between UCSC and GENCODE/Ensembl format"
   ]
  },
  {
   "attachments": {},
   "cell_type": "markdown",
   "metadata": {},
   "source": [
    "Equivalences table UCSC-vs-GENCODE: https://hgdownload.soe.ucsc.edu/goldenPath/hg19/database/knownToEnsembl.txt.gz\n",
    "\n",
    "Coming from directory: https://hgdownload.soe.ucsc.edu/goldenPath/hg19/database/"
   ]
  },
  {
   "cell_type": "code",
   "execution_count": 4,
   "metadata": {},
   "outputs": [
    {
     "name": "stdout",
     "output_type": "stream",
     "text": [
      "Size:  (76178, 2)\n"
     ]
    },
    {
     "data": {
      "text/html": [
       "<div>\n",
       "<style scoped>\n",
       "    .dataframe tbody tr th:only-of-type {\n",
       "        vertical-align: middle;\n",
       "    }\n",
       "\n",
       "    .dataframe tbody tr th {\n",
       "        vertical-align: top;\n",
       "    }\n",
       "\n",
       "    .dataframe thead th {\n",
       "        text-align: right;\n",
       "    }\n",
       "</style>\n",
       "<table border=\"1\" class=\"dataframe\">\n",
       "  <thead>\n",
       "    <tr style=\"text-align: right;\">\n",
       "      <th></th>\n",
       "      <th>name</th>\n",
       "      <th>transcript</th>\n",
       "    </tr>\n",
       "  </thead>\n",
       "  <tbody>\n",
       "    <tr>\n",
       "      <th>0</th>\n",
       "      <td>uc022bqo.2</td>\n",
       "      <td>ENST00000389680</td>\n",
       "    </tr>\n",
       "    <tr>\n",
       "      <th>1</th>\n",
       "      <td>uc004cor.1</td>\n",
       "      <td>ENST00000387342</td>\n",
       "    </tr>\n",
       "    <tr>\n",
       "      <th>2</th>\n",
       "      <td>uc004cos.5</td>\n",
       "      <td>ENST00000387347</td>\n",
       "    </tr>\n",
       "    <tr>\n",
       "      <th>3</th>\n",
       "      <td>uc031tga.1</td>\n",
       "      <td>ENST00000361624</td>\n",
       "    </tr>\n",
       "    <tr>\n",
       "      <th>4</th>\n",
       "      <td>uc011mfi.2</td>\n",
       "      <td>ENST00000361739</td>\n",
       "    </tr>\n",
       "  </tbody>\n",
       "</table>\n",
       "</div>"
      ],
      "text/plain": [
       "         name       transcript\n",
       "0  uc022bqo.2  ENST00000389680\n",
       "1  uc004cor.1  ENST00000387342\n",
       "2  uc004cos.5  ENST00000387347\n",
       "3  uc031tga.1  ENST00000361624\n",
       "4  uc011mfi.2  ENST00000361739"
      ]
     },
     "execution_count": 4,
     "metadata": {},
     "output_type": "execute_result"
    }
   ],
   "source": [
    "file_in = 'knownToEnsembl.txt.gz'\n",
    "df_equivalences = pd.read_csv(file_in, sep='\\t', header=None, comment='#')\n",
    "df_equivalences.columns = ['name', 'transcript']\n",
    "print(\"Size: \", df_equivalences.shape)\n",
    "df_equivalences.head(5)"
   ]
  },
  {
   "attachments": {},
   "cell_type": "markdown",
   "metadata": {},
   "source": [
    "## Merge both dataframes"
   ]
  },
  {
   "cell_type": "code",
   "execution_count": 5,
   "metadata": {},
   "outputs": [
    {
     "name": "stdout",
     "output_type": "stream",
     "text": [
      "Size:  (26811, 2)\n"
     ]
    },
    {
     "data": {
      "text/html": [
       "<div>\n",
       "<style scoped>\n",
       "    .dataframe tbody tr th:only-of-type {\n",
       "        vertical-align: middle;\n",
       "    }\n",
       "\n",
       "    .dataframe tbody tr th {\n",
       "        vertical-align: top;\n",
       "    }\n",
       "\n",
       "    .dataframe thead th {\n",
       "        text-align: right;\n",
       "    }\n",
       "</style>\n",
       "<table border=\"1\" class=\"dataframe\">\n",
       "  <thead>\n",
       "    <tr style=\"text-align: right;\">\n",
       "      <th></th>\n",
       "      <th>name</th>\n",
       "      <th>transcript</th>\n",
       "    </tr>\n",
       "  </thead>\n",
       "  <tbody>\n",
       "    <tr>\n",
       "      <th>0</th>\n",
       "      <td>uc010nxq.1</td>\n",
       "      <td>ENST00000518655</td>\n",
       "    </tr>\n",
       "    <tr>\n",
       "      <th>1</th>\n",
       "      <td>uc009viu.3</td>\n",
       "      <td>ENST00000438504</td>\n",
       "    </tr>\n",
       "    <tr>\n",
       "      <th>2</th>\n",
       "      <td>uc009viw.2</td>\n",
       "      <td>ENST00000438504</td>\n",
       "    </tr>\n",
       "    <tr>\n",
       "      <th>3</th>\n",
       "      <td>uc001aak.3</td>\n",
       "      <td>ENST00000417324</td>\n",
       "    </tr>\n",
       "    <tr>\n",
       "      <th>4</th>\n",
       "      <td>uc001aal.1</td>\n",
       "      <td>ENST00000335137</td>\n",
       "    </tr>\n",
       "  </tbody>\n",
       "</table>\n",
       "</div>"
      ],
      "text/plain": [
       "         name       transcript\n",
       "0  uc010nxq.1  ENST00000518655\n",
       "1  uc009viu.3  ENST00000438504\n",
       "2  uc009viw.2  ENST00000438504\n",
       "3  uc001aak.3  ENST00000417324\n",
       "4  uc001aal.1  ENST00000335137"
      ]
     },
     "execution_count": 5,
     "metadata": {},
     "output_type": "execute_result"
    }
   ],
   "source": [
    "df_best_transcripts = pd.merge(df_best_transcripts, df_equivalences, how=\"inner\", on=\"name\")\n",
    "print(\"Size: \", df_best_transcripts.shape)\n",
    "df_best_transcripts.head(5)"
   ]
  },
  {
   "attachments": {},
   "cell_type": "markdown",
   "metadata": {},
   "source": [
    "## Add Length"
   ]
  },
  {
   "cell_type": "code",
   "execution_count": 6,
   "metadata": {},
   "outputs": [
    {
     "name": "stdout",
     "output_type": "stream",
     "text": [
      "Size:  (196520, 2)\n"
     ]
    },
    {
     "data": {
      "text/html": [
       "<div>\n",
       "<style scoped>\n",
       "    .dataframe tbody tr th:only-of-type {\n",
       "        vertical-align: middle;\n",
       "    }\n",
       "\n",
       "    .dataframe tbody tr th {\n",
       "        vertical-align: top;\n",
       "    }\n",
       "\n",
       "    .dataframe thead th {\n",
       "        text-align: right;\n",
       "    }\n",
       "</style>\n",
       "<table border=\"1\" class=\"dataframe\">\n",
       "  <thead>\n",
       "    <tr style=\"text-align: right;\">\n",
       "      <th></th>\n",
       "      <th>gene</th>\n",
       "      <th>Length</th>\n",
       "    </tr>\n",
       "  </thead>\n",
       "  <tbody>\n",
       "    <tr>\n",
       "      <th>ENST00000456328</th>\n",
       "      <td>ENSG00000223972</td>\n",
       "      <td>1657</td>\n",
       "    </tr>\n",
       "    <tr>\n",
       "      <th>ENST00000515242</th>\n",
       "      <td>ENSG00000223972</td>\n",
       "      <td>1653</td>\n",
       "    </tr>\n",
       "    <tr>\n",
       "      <th>ENST00000518655</th>\n",
       "      <td>ENSG00000223972</td>\n",
       "      <td>1483</td>\n",
       "    </tr>\n",
       "    <tr>\n",
       "      <th>ENST00000450305</th>\n",
       "      <td>ENSG00000223972</td>\n",
       "      <td>632</td>\n",
       "    </tr>\n",
       "    <tr>\n",
       "      <th>ENST00000438504</th>\n",
       "      <td>ENSG00000227232</td>\n",
       "      <td>1783</td>\n",
       "    </tr>\n",
       "  </tbody>\n",
       "</table>\n",
       "</div>"
      ],
      "text/plain": [
       "                            gene  Length\n",
       "ENST00000456328  ENSG00000223972    1657\n",
       "ENST00000515242  ENSG00000223972    1653\n",
       "ENST00000518655  ENSG00000223972    1483\n",
       "ENST00000450305  ENSG00000223972     632\n",
       "ENST00000438504  ENSG00000227232    1783"
      ]
     },
     "execution_count": 6,
     "metadata": {},
     "output_type": "execute_result"
    }
   ],
   "source": [
    "# Read GFF3 (we have to take length from GFF3 file, where exons have been taken into account)\n",
    "file='GFF3.csv'\n",
    "df_GFF3 = pd.read_csv(file,sep=';',na_values='n.a.',index_col=0)\n",
    "print(\"Size: \", df_GFF3.shape)\n",
    "df_GFF3.head(5)"
   ]
  },
  {
   "cell_type": "code",
   "execution_count": 7,
   "metadata": {},
   "outputs": [
    {
     "name": "stdout",
     "output_type": "stream",
     "text": [
      "Size:  (25637, 4)\n"
     ]
    },
    {
     "data": {
      "text/html": [
       "<div>\n",
       "<style scoped>\n",
       "    .dataframe tbody tr th:only-of-type {\n",
       "        vertical-align: middle;\n",
       "    }\n",
       "\n",
       "    .dataframe tbody tr th {\n",
       "        vertical-align: top;\n",
       "    }\n",
       "\n",
       "    .dataframe thead th {\n",
       "        text-align: right;\n",
       "    }\n",
       "</style>\n",
       "<table border=\"1\" class=\"dataframe\">\n",
       "  <thead>\n",
       "    <tr style=\"text-align: right;\">\n",
       "      <th></th>\n",
       "      <th>name</th>\n",
       "      <th>transcript</th>\n",
       "      <th>gene</th>\n",
       "      <th>Length</th>\n",
       "    </tr>\n",
       "  </thead>\n",
       "  <tbody>\n",
       "    <tr>\n",
       "      <th>0</th>\n",
       "      <td>uc010nxq.1</td>\n",
       "      <td>ENST00000518655</td>\n",
       "      <td>ENSG00000223972</td>\n",
       "      <td>1483</td>\n",
       "    </tr>\n",
       "    <tr>\n",
       "      <th>1</th>\n",
       "      <td>uc009viu.3</td>\n",
       "      <td>ENST00000438504</td>\n",
       "      <td>ENSG00000227232</td>\n",
       "      <td>1783</td>\n",
       "    </tr>\n",
       "    <tr>\n",
       "      <th>2</th>\n",
       "      <td>uc009viw.2</td>\n",
       "      <td>ENST00000438504</td>\n",
       "      <td>ENSG00000227232</td>\n",
       "      <td>1783</td>\n",
       "    </tr>\n",
       "    <tr>\n",
       "      <th>3</th>\n",
       "      <td>uc001aak.3</td>\n",
       "      <td>ENST00000417324</td>\n",
       "      <td>ENSG00000237613</td>\n",
       "      <td>1187</td>\n",
       "    </tr>\n",
       "    <tr>\n",
       "      <th>4</th>\n",
       "      <td>uc001aal.1</td>\n",
       "      <td>ENST00000335137</td>\n",
       "      <td>ENSG00000186092</td>\n",
       "      <td>918</td>\n",
       "    </tr>\n",
       "  </tbody>\n",
       "</table>\n",
       "</div>"
      ],
      "text/plain": [
       "         name       transcript             gene  Length\n",
       "0  uc010nxq.1  ENST00000518655  ENSG00000223972    1483\n",
       "1  uc009viu.3  ENST00000438504  ENSG00000227232    1783\n",
       "2  uc009viw.2  ENST00000438504  ENSG00000227232    1783\n",
       "3  uc001aak.3  ENST00000417324  ENSG00000237613    1187\n",
       "4  uc001aal.1  ENST00000335137  ENSG00000186092     918"
      ]
     },
     "execution_count": 7,
     "metadata": {},
     "output_type": "execute_result"
    }
   ],
   "source": [
    "df_best_transcripts = pd.merge(df_best_transcripts, df_GFF3, how=\"inner\", left_on=\"transcript\", right_index=True)\n",
    "\n",
    "print(\"Size: \", df_best_transcripts.shape)\n",
    "df_best_transcripts.head(5)"
   ]
  },
  {
   "attachments": {},
   "cell_type": "markdown",
   "metadata": {},
   "source": [
    "## Check how many transcripts per gene (should be only 1)"
   ]
  },
  {
   "cell_type": "code",
   "execution_count": 9,
   "metadata": {},
   "outputs": [
    {
     "data": {
      "text/html": [
       "<div>\n",
       "<style scoped>\n",
       "    .dataframe tbody tr th:only-of-type {\n",
       "        vertical-align: middle;\n",
       "    }\n",
       "\n",
       "    .dataframe tbody tr th {\n",
       "        vertical-align: top;\n",
       "    }\n",
       "\n",
       "    .dataframe thead th {\n",
       "        text-align: right;\n",
       "    }\n",
       "</style>\n",
       "<table border=\"1\" class=\"dataframe\">\n",
       "  <thead>\n",
       "    <tr style=\"text-align: right;\">\n",
       "      <th></th>\n",
       "      <th>number_of_transcripts</th>\n",
       "    </tr>\n",
       "  </thead>\n",
       "  <tbody>\n",
       "    <tr>\n",
       "      <th>count</th>\n",
       "      <td>25025.000000</td>\n",
       "    </tr>\n",
       "    <tr>\n",
       "      <th>mean</th>\n",
       "      <td>1.024456</td>\n",
       "    </tr>\n",
       "    <tr>\n",
       "      <th>std</th>\n",
       "      <td>0.183763</td>\n",
       "    </tr>\n",
       "    <tr>\n",
       "      <th>min</th>\n",
       "      <td>1.000000</td>\n",
       "    </tr>\n",
       "    <tr>\n",
       "      <th>25%</th>\n",
       "      <td>1.000000</td>\n",
       "    </tr>\n",
       "    <tr>\n",
       "      <th>50%</th>\n",
       "      <td>1.000000</td>\n",
       "    </tr>\n",
       "    <tr>\n",
       "      <th>75%</th>\n",
       "      <td>1.000000</td>\n",
       "    </tr>\n",
       "    <tr>\n",
       "      <th>max</th>\n",
       "      <td>13.000000</td>\n",
       "    </tr>\n",
       "  </tbody>\n",
       "</table>\n",
       "</div>"
      ],
      "text/plain": [
       "       number_of_transcripts\n",
       "count           25025.000000\n",
       "mean                1.024456\n",
       "std                 0.183763\n",
       "min                 1.000000\n",
       "25%                 1.000000\n",
       "50%                 1.000000\n",
       "75%                 1.000000\n",
       "max                13.000000"
      ]
     },
     "execution_count": 9,
     "metadata": {},
     "output_type": "execute_result"
    }
   ],
   "source": [
    "df_best_transcripts_per_gene = df_best_transcripts.groupby(\"gene\").count()\n",
    "df_best_transcripts_per_gene = df_best_transcripts_per_gene.rename(columns = {'name':'number_of_transcripts'})\n",
    "df_best_transcripts_per_gene.drop(['transcript','Length'], axis = 1, inplace = True)\n",
    "df_best_transcripts_per_gene.describe()"
   ]
  },
  {
   "cell_type": "code",
   "execution_count": 10,
   "metadata": {},
   "outputs": [
    {
     "data": {
      "text/html": [
       "<div>\n",
       "<style scoped>\n",
       "    .dataframe tbody tr th:only-of-type {\n",
       "        vertical-align: middle;\n",
       "    }\n",
       "\n",
       "    .dataframe tbody tr th {\n",
       "        vertical-align: top;\n",
       "    }\n",
       "\n",
       "    .dataframe thead th {\n",
       "        text-align: right;\n",
       "    }\n",
       "</style>\n",
       "<table border=\"1\" class=\"dataframe\">\n",
       "  <thead>\n",
       "    <tr style=\"text-align: right;\">\n",
       "      <th></th>\n",
       "      <th>number_of_transcripts</th>\n",
       "    </tr>\n",
       "    <tr>\n",
       "      <th>gene</th>\n",
       "      <th></th>\n",
       "    </tr>\n",
       "  </thead>\n",
       "  <tbody>\n",
       "    <tr>\n",
       "      <th>ENSG00000002834</th>\n",
       "      <td>2</td>\n",
       "    </tr>\n",
       "    <tr>\n",
       "      <th>ENSG00000006327</th>\n",
       "      <td>2</td>\n",
       "    </tr>\n",
       "    <tr>\n",
       "      <th>ENSG00000007047</th>\n",
       "      <td>2</td>\n",
       "    </tr>\n",
       "    <tr>\n",
       "      <th>ENSG00000007392</th>\n",
       "      <td>2</td>\n",
       "    </tr>\n",
       "    <tr>\n",
       "      <th>ENSG00000011275</th>\n",
       "      <td>2</td>\n",
       "    </tr>\n",
       "    <tr>\n",
       "      <th>...</th>\n",
       "      <td>...</td>\n",
       "    </tr>\n",
       "    <tr>\n",
       "      <th>ENSG00000269609</th>\n",
       "      <td>2</td>\n",
       "    </tr>\n",
       "    <tr>\n",
       "      <th>ENSG00000269834</th>\n",
       "      <td>2</td>\n",
       "    </tr>\n",
       "    <tr>\n",
       "      <th>ENSG00000269893</th>\n",
       "      <td>2</td>\n",
       "    </tr>\n",
       "    <tr>\n",
       "      <th>ENSG00000271105</th>\n",
       "      <td>3</td>\n",
       "    </tr>\n",
       "    <tr>\n",
       "      <th>ENSG00000272168</th>\n",
       "      <td>2</td>\n",
       "    </tr>\n",
       "  </tbody>\n",
       "</table>\n",
       "<p>560 rows × 1 columns</p>\n",
       "</div>"
      ],
      "text/plain": [
       "                 number_of_transcripts\n",
       "gene                                  \n",
       "ENSG00000002834                      2\n",
       "ENSG00000006327                      2\n",
       "ENSG00000007047                      2\n",
       "ENSG00000007392                      2\n",
       "ENSG00000011275                      2\n",
       "...                                ...\n",
       "ENSG00000269609                      2\n",
       "ENSG00000269834                      2\n",
       "ENSG00000269893                      2\n",
       "ENSG00000271105                      3\n",
       "ENSG00000272168                      2\n",
       "\n",
       "[560 rows x 1 columns]"
      ]
     },
     "execution_count": 10,
     "metadata": {},
     "output_type": "execute_result"
    }
   ],
   "source": [
    "df_best_transcripts_per_gene.loc[df_best_transcripts_per_gene['number_of_transcripts']>1]"
   ]
  },
  {
   "cell_type": "code",
   "execution_count": 11,
   "metadata": {},
   "outputs": [
    {
     "data": {
      "text/html": [
       "<div>\n",
       "<style scoped>\n",
       "    .dataframe tbody tr th:only-of-type {\n",
       "        vertical-align: middle;\n",
       "    }\n",
       "\n",
       "    .dataframe tbody tr th {\n",
       "        vertical-align: top;\n",
       "    }\n",
       "\n",
       "    .dataframe thead th {\n",
       "        text-align: right;\n",
       "    }\n",
       "</style>\n",
       "<table border=\"1\" class=\"dataframe\">\n",
       "  <thead>\n",
       "    <tr style=\"text-align: right;\">\n",
       "      <th></th>\n",
       "      <th>name</th>\n",
       "      <th>transcript</th>\n",
       "      <th>gene</th>\n",
       "      <th>Length</th>\n",
       "    </tr>\n",
       "  </thead>\n",
       "  <tbody>\n",
       "    <tr>\n",
       "      <th>10384</th>\n",
       "      <td>uc010cvq.3</td>\n",
       "      <td>ENST00000318008</td>\n",
       "      <td>ENSG00000002834</td>\n",
       "      <td>4109</td>\n",
       "    </tr>\n",
       "    <tr>\n",
       "      <th>10385</th>\n",
       "      <td>uc002hra.3</td>\n",
       "      <td>ENST00000318008</td>\n",
       "      <td>ENSG00000002834</td>\n",
       "      <td>4109</td>\n",
       "    </tr>\n",
       "  </tbody>\n",
       "</table>\n",
       "</div>"
      ],
      "text/plain": [
       "             name       transcript             gene  Length\n",
       "10384  uc010cvq.3  ENST00000318008  ENSG00000002834    4109\n",
       "10385  uc002hra.3  ENST00000318008  ENSG00000002834    4109"
      ]
     },
     "execution_count": 11,
     "metadata": {},
     "output_type": "execute_result"
    }
   ],
   "source": [
    "# Let's analyze a couple of them\n",
    "gene_name = 'ENSG00000002834'\n",
    "df_best_transcripts.loc[df_best_transcripts['gene'] == gene_name]"
   ]
  },
  {
   "attachments": {},
   "cell_type": "markdown",
   "metadata": {},
   "source": [
    "This one has the same information. We can remove one of the rows"
   ]
  },
  {
   "cell_type": "code",
   "execution_count": 12,
   "metadata": {},
   "outputs": [
    {
     "data": {
      "text/html": [
       "<div>\n",
       "<style scoped>\n",
       "    .dataframe tbody tr th:only-of-type {\n",
       "        vertical-align: middle;\n",
       "    }\n",
       "\n",
       "    .dataframe tbody tr th {\n",
       "        vertical-align: top;\n",
       "    }\n",
       "\n",
       "    .dataframe thead th {\n",
       "        text-align: right;\n",
       "    }\n",
       "</style>\n",
       "<table border=\"1\" class=\"dataframe\">\n",
       "  <thead>\n",
       "    <tr style=\"text-align: right;\">\n",
       "      <th></th>\n",
       "      <th>name</th>\n",
       "      <th>transcript</th>\n",
       "      <th>gene</th>\n",
       "      <th>Length</th>\n",
       "    </tr>\n",
       "  </thead>\n",
       "  <tbody>\n",
       "    <tr>\n",
       "      <th>8830</th>\n",
       "      <td>uc002csv.4</td>\n",
       "      <td>ENST00000326577</td>\n",
       "      <td>ENSG00000006327</td>\n",
       "      <td>1033</td>\n",
       "    </tr>\n",
       "    <tr>\n",
       "      <th>8831</th>\n",
       "      <td>uc031quu.1</td>\n",
       "      <td>ENST00000571351</td>\n",
       "      <td>ENSG00000006327</td>\n",
       "      <td>1678</td>\n",
       "    </tr>\n",
       "  </tbody>\n",
       "</table>\n",
       "</div>"
      ],
      "text/plain": [
       "            name       transcript             gene  Length\n",
       "8830  uc002csv.4  ENST00000326577  ENSG00000006327    1033\n",
       "8831  uc031quu.1  ENST00000571351  ENSG00000006327    1678"
      ]
     },
     "execution_count": 12,
     "metadata": {},
     "output_type": "execute_result"
    }
   ],
   "source": [
    "gene_name = 'ENSG00000006327'\n",
    "df_best_transcripts.loc[df_best_transcripts['gene'] == gene_name]"
   ]
  },
  {
   "attachments": {},
   "cell_type": "markdown",
   "metadata": {},
   "source": [
    "This one has two different transcripts and lengths"
   ]
  },
  {
   "cell_type": "code",
   "execution_count": 13,
   "metadata": {},
   "outputs": [
    {
     "name": "stdout",
     "output_type": "stream",
     "text": [
      "Size:  (25508, 4)\n"
     ]
    },
    {
     "data": {
      "text/html": [
       "<div>\n",
       "<style scoped>\n",
       "    .dataframe tbody tr th:only-of-type {\n",
       "        vertical-align: middle;\n",
       "    }\n",
       "\n",
       "    .dataframe tbody tr th {\n",
       "        vertical-align: top;\n",
       "    }\n",
       "\n",
       "    .dataframe thead th {\n",
       "        text-align: right;\n",
       "    }\n",
       "</style>\n",
       "<table border=\"1\" class=\"dataframe\">\n",
       "  <thead>\n",
       "    <tr style=\"text-align: right;\">\n",
       "      <th></th>\n",
       "      <th>name</th>\n",
       "      <th>transcript</th>\n",
       "      <th>gene</th>\n",
       "      <th>Length</th>\n",
       "    </tr>\n",
       "  </thead>\n",
       "  <tbody>\n",
       "    <tr>\n",
       "      <th>0</th>\n",
       "      <td>uc010nxq.1</td>\n",
       "      <td>ENST00000518655</td>\n",
       "      <td>ENSG00000223972</td>\n",
       "      <td>1483</td>\n",
       "    </tr>\n",
       "    <tr>\n",
       "      <th>1</th>\n",
       "      <td>uc009viu.3</td>\n",
       "      <td>ENST00000438504</td>\n",
       "      <td>ENSG00000227232</td>\n",
       "      <td>1783</td>\n",
       "    </tr>\n",
       "    <tr>\n",
       "      <th>3</th>\n",
       "      <td>uc001aak.3</td>\n",
       "      <td>ENST00000417324</td>\n",
       "      <td>ENSG00000237613</td>\n",
       "      <td>1187</td>\n",
       "    </tr>\n",
       "    <tr>\n",
       "      <th>4</th>\n",
       "      <td>uc001aal.1</td>\n",
       "      <td>ENST00000335137</td>\n",
       "      <td>ENSG00000186092</td>\n",
       "      <td>918</td>\n",
       "    </tr>\n",
       "    <tr>\n",
       "      <th>5</th>\n",
       "      <td>uc021oeg.2</td>\n",
       "      <td>ENST00000493797</td>\n",
       "      <td>ENSG00000239906</td>\n",
       "      <td>323</td>\n",
       "    </tr>\n",
       "  </tbody>\n",
       "</table>\n",
       "</div>"
      ],
      "text/plain": [
       "         name       transcript             gene  Length\n",
       "0  uc010nxq.1  ENST00000518655  ENSG00000223972    1483\n",
       "1  uc009viu.3  ENST00000438504  ENSG00000227232    1783\n",
       "3  uc001aak.3  ENST00000417324  ENSG00000237613    1187\n",
       "4  uc001aal.1  ENST00000335137  ENSG00000186092     918\n",
       "5  uc021oeg.2  ENST00000493797  ENSG00000239906     323"
      ]
     },
     "execution_count": 13,
     "metadata": {},
     "output_type": "execute_result"
    }
   ],
   "source": [
    "# Remove those cases that have same transcript name, gene name and length\n",
    "df_best_transcripts.drop_duplicates(subset=['transcript', 'gene', 'Length'], keep='first', inplace=True)\n",
    "print(\"Size: \", df_best_transcripts.shape)\n",
    "df_best_transcripts.head()"
   ]
  },
  {
   "cell_type": "code",
   "execution_count": 14,
   "metadata": {},
   "outputs": [
    {
     "data": {
      "text/html": [
       "<div>\n",
       "<style scoped>\n",
       "    .dataframe tbody tr th:only-of-type {\n",
       "        vertical-align: middle;\n",
       "    }\n",
       "\n",
       "    .dataframe tbody tr th {\n",
       "        vertical-align: top;\n",
       "    }\n",
       "\n",
       "    .dataframe thead th {\n",
       "        text-align: right;\n",
       "    }\n",
       "</style>\n",
       "<table border=\"1\" class=\"dataframe\">\n",
       "  <thead>\n",
       "    <tr style=\"text-align: right;\">\n",
       "      <th></th>\n",
       "      <th>number_of_transcripts</th>\n",
       "      <th>transcript</th>\n",
       "      <th>Length</th>\n",
       "    </tr>\n",
       "    <tr>\n",
       "      <th>gene</th>\n",
       "      <th></th>\n",
       "      <th></th>\n",
       "      <th></th>\n",
       "    </tr>\n",
       "  </thead>\n",
       "  <tbody>\n",
       "    <tr>\n",
       "      <th>ENSG00000006327</th>\n",
       "      <td>2</td>\n",
       "      <td>2</td>\n",
       "      <td>2</td>\n",
       "    </tr>\n",
       "    <tr>\n",
       "      <th>ENSG00000007047</th>\n",
       "      <td>2</td>\n",
       "      <td>2</td>\n",
       "      <td>2</td>\n",
       "    </tr>\n",
       "    <tr>\n",
       "      <th>ENSG00000007392</th>\n",
       "      <td>2</td>\n",
       "      <td>2</td>\n",
       "      <td>2</td>\n",
       "    </tr>\n",
       "    <tr>\n",
       "      <th>ENSG00000011275</th>\n",
       "      <td>2</td>\n",
       "      <td>2</td>\n",
       "      <td>2</td>\n",
       "    </tr>\n",
       "    <tr>\n",
       "      <th>ENSG00000011347</th>\n",
       "      <td>2</td>\n",
       "      <td>2</td>\n",
       "      <td>2</td>\n",
       "    </tr>\n",
       "    <tr>\n",
       "      <th>...</th>\n",
       "      <td>...</td>\n",
       "      <td>...</td>\n",
       "      <td>...</td>\n",
       "    </tr>\n",
       "    <tr>\n",
       "      <th>ENSG00000269501</th>\n",
       "      <td>2</td>\n",
       "      <td>2</td>\n",
       "      <td>2</td>\n",
       "    </tr>\n",
       "    <tr>\n",
       "      <th>ENSG00000269609</th>\n",
       "      <td>2</td>\n",
       "      <td>2</td>\n",
       "      <td>2</td>\n",
       "    </tr>\n",
       "    <tr>\n",
       "      <th>ENSG00000269834</th>\n",
       "      <td>2</td>\n",
       "      <td>2</td>\n",
       "      <td>2</td>\n",
       "    </tr>\n",
       "    <tr>\n",
       "      <th>ENSG00000269893</th>\n",
       "      <td>2</td>\n",
       "      <td>2</td>\n",
       "      <td>2</td>\n",
       "    </tr>\n",
       "    <tr>\n",
       "      <th>ENSG00000272168</th>\n",
       "      <td>2</td>\n",
       "      <td>2</td>\n",
       "      <td>2</td>\n",
       "    </tr>\n",
       "  </tbody>\n",
       "</table>\n",
       "<p>456 rows × 3 columns</p>\n",
       "</div>"
      ],
      "text/plain": [
       "                 number_of_transcripts  transcript  Length\n",
       "gene                                                      \n",
       "ENSG00000006327                      2           2       2\n",
       "ENSG00000007047                      2           2       2\n",
       "ENSG00000007392                      2           2       2\n",
       "ENSG00000011275                      2           2       2\n",
       "ENSG00000011347                      2           2       2\n",
       "...                                ...         ...     ...\n",
       "ENSG00000269501                      2           2       2\n",
       "ENSG00000269609                      2           2       2\n",
       "ENSG00000269834                      2           2       2\n",
       "ENSG00000269893                      2           2       2\n",
       "ENSG00000272168                      2           2       2\n",
       "\n",
       "[456 rows x 3 columns]"
      ]
     },
     "execution_count": 14,
     "metadata": {},
     "output_type": "execute_result"
    }
   ],
   "source": [
    "df_best_transcripts_per_gene = df_best_transcripts.groupby(\"gene\").count()\n",
    "df_best_transcripts_per_gene = df_best_transcripts_per_gene.rename(columns = {'name':'number_of_transcripts'})\n",
    "df_best_transcripts_per_gene.loc[df_best_transcripts_per_gene['number_of_transcripts']>1]"
   ]
  },
  {
   "cell_type": "code",
   "execution_count": 15,
   "metadata": {},
   "outputs": [
    {
     "name": "stdout",
     "output_type": "stream",
     "text": [
      "Number of genes:  (25025, 3)\n",
      "Number of genes with more than 1 trasncript:  (456, 3)\n",
      "Percentage:  1.8221778221778222 %\n"
     ]
    }
   ],
   "source": [
    "# Check how many genes have more than 1 transcript\n",
    "print(\"Number of genes: \", df_best_transcripts_per_gene.shape)\n",
    "print(\"Number of genes with more than 1 trasncript: \", df_best_transcripts_per_gene.loc[df_best_transcripts_per_gene['number_of_transcripts']>1].shape)\n",
    "print(\"Percentage: \", (456/25025)*100, \"%\")"
   ]
  },
  {
   "attachments": {},
   "cell_type": "markdown",
   "metadata": {},
   "source": [
    "## Save dataframe"
   ]
  },
  {
   "cell_type": "code",
   "execution_count": 16,
   "metadata": {},
   "outputs": [],
   "source": [
    "# Save file\n",
    "file='BestTranscript.csv'\n",
    "df_best_transcripts.to_csv(file, sep=';', index = False)"
   ]
  },
  {
   "cell_type": "code",
   "execution_count": 17,
   "metadata": {},
   "outputs": [
    {
     "data": {
      "text/html": [
       "<div>\n",
       "<style scoped>\n",
       "    .dataframe tbody tr th:only-of-type {\n",
       "        vertical-align: middle;\n",
       "    }\n",
       "\n",
       "    .dataframe tbody tr th {\n",
       "        vertical-align: top;\n",
       "    }\n",
       "\n",
       "    .dataframe thead th {\n",
       "        text-align: right;\n",
       "    }\n",
       "</style>\n",
       "<table border=\"1\" class=\"dataframe\">\n",
       "  <thead>\n",
       "    <tr style=\"text-align: right;\">\n",
       "      <th></th>\n",
       "      <th>name</th>\n",
       "      <th>transcript</th>\n",
       "      <th>gene</th>\n",
       "      <th>Length</th>\n",
       "    </tr>\n",
       "  </thead>\n",
       "  <tbody>\n",
       "    <tr>\n",
       "      <th>0</th>\n",
       "      <td>uc010nxq.1</td>\n",
       "      <td>ENST00000518655</td>\n",
       "      <td>ENSG00000223972</td>\n",
       "      <td>1483</td>\n",
       "    </tr>\n",
       "    <tr>\n",
       "      <th>1</th>\n",
       "      <td>uc009viu.3</td>\n",
       "      <td>ENST00000438504</td>\n",
       "      <td>ENSG00000227232</td>\n",
       "      <td>1783</td>\n",
       "    </tr>\n",
       "    <tr>\n",
       "      <th>3</th>\n",
       "      <td>uc001aak.3</td>\n",
       "      <td>ENST00000417324</td>\n",
       "      <td>ENSG00000237613</td>\n",
       "      <td>1187</td>\n",
       "    </tr>\n",
       "  </tbody>\n",
       "</table>\n",
       "</div>"
      ],
      "text/plain": [
       "         name       transcript             gene  Length\n",
       "0  uc010nxq.1  ENST00000518655  ENSG00000223972    1483\n",
       "1  uc009viu.3  ENST00000438504  ENSG00000227232    1783\n",
       "3  uc001aak.3  ENST00000417324  ENSG00000237613    1187"
      ]
     },
     "execution_count": 17,
     "metadata": {},
     "output_type": "execute_result"
    }
   ],
   "source": [
    "df_best_transcripts.head(3)"
   ]
  },
  {
   "cell_type": "code",
   "execution_count": null,
   "metadata": {},
   "outputs": [],
   "source": []
  }
 ],
 "metadata": {
  "kernelspec": {
   "display_name": "Python 3",
   "language": "python",
   "name": "python3"
  },
  "language_info": {
   "codemirror_mode": {
    "name": "ipython",
    "version": 3
   },
   "file_extension": ".py",
   "mimetype": "text/x-python",
   "name": "python",
   "nbconvert_exporter": "python",
   "pygments_lexer": "ipython3",
   "version": "3.10.5"
  },
  "orig_nbformat": 4,
  "vscode": {
   "interpreter": {
    "hash": "7efbd634259f8e5f569f443ec65758432c9a08fec7ecc1e2b0020067d32b9947"
   }
  }
 },
 "nbformat": 4,
 "nbformat_minor": 2
}
