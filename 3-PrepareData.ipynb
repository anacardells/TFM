{
 "cells": [
  {
   "attachments": {},
   "cell_type": "markdown",
   "metadata": {},
   "source": [
    "# Data Preparation\n"
   ]
  },
  {
   "cell_type": "code",
   "execution_count": 12,
   "metadata": {},
   "outputs": [],
   "source": [
    "# Imports\n",
    "import numpy as np\n",
    "import pandas as pd\n",
    "import matplotlib.pyplot as plt\n",
    "import seaborn as sns\n",
    "\n",
    "from sklearn.model_selection import train_test_split"
   ]
  },
  {
   "attachments": {},
   "cell_type": "markdown",
   "metadata": {},
   "source": [
    "## Read File\n"
   ]
  },
  {
   "cell_type": "code",
   "execution_count": 13,
   "metadata": {},
   "outputs": [],
   "source": [
    "# Read merged dataFrame with Outliers removed\n",
    "file='DataPatientsWithGTNoOutliers.csv'\n",
    "df = pd.read_csv(file,sep=';',index_col=0, na_values='n.a.', dtype={'Stage': 'object', 'Age': 'float64'})\n"
   ]
  },
  {
   "attachments": {},
   "cell_type": "markdown",
   "metadata": {},
   "source": [
    "## Split between training and testing (external data split)\n"
   ]
  },
  {
   "cell_type": "code",
   "execution_count": 14,
   "metadata": {},
   "outputs": [],
   "source": [
    "df_train, df_test = train_test_split(df, test_size=0.2, random_state=42, shuffle=True)\n"
   ]
  },
  {
   "cell_type": "code",
   "execution_count": 15,
   "metadata": {},
   "outputs": [
    {
     "data": {
      "text/plain": [
       "(1879, 5261)"
      ]
     },
     "execution_count": 15,
     "metadata": {},
     "output_type": "execute_result"
    }
   ],
   "source": [
    "df_train.shape"
   ]
  },
  {
   "cell_type": "code",
   "execution_count": 16,
   "metadata": {},
   "outputs": [
    {
     "data": {
      "text/plain": [
       "(470, 5261)"
      ]
     },
     "execution_count": 16,
     "metadata": {},
     "output_type": "execute_result"
    }
   ],
   "source": [
    "df_test.shape"
   ]
  },
  {
   "attachments": {},
   "cell_type": "markdown",
   "metadata": {},
   "source": [
    "### Check if classes are equally balanced"
   ]
  },
  {
   "cell_type": "code",
   "execution_count": 17,
   "metadata": {},
   "outputs": [
    {
     "name": "stdout",
     "output_type": "stream",
     "text": [
      "% of nonMalignant in df 30.779054916985952\n",
      "% of nonMalignant in df_train 30.122405534858967\n",
      "% of nonMalignant in df_val 33.40425531914894\n"
     ]
    }
   ],
   "source": [
    "print(\"% of nonMalignant in df\", 100*df.loc[df['Class_group'] == 'nonMalignant'].shape[0]/df.shape[0])\n",
    "print(\"% of nonMalignant in df_train\", 100*df_train.loc[df_train['Class_group'] == 'nonMalignant'].shape[0]/df_train.shape[0])\n",
    "print(\"% of nonMalignant in df_val\", 100*df_test.loc[df_test['Class_group'] == 'nonMalignant'].shape[0]/df_test.shape[0])"
   ]
  },
  {
   "attachments": {},
   "cell_type": "markdown",
   "metadata": {},
   "source": [
    "## Remove genes that bring few information"
   ]
  },
  {
   "attachments": {},
   "cell_type": "markdown",
   "metadata": {},
   "source": [
    "### Genes with low variance"
   ]
  },
  {
   "cell_type": "code",
   "execution_count": 18,
   "metadata": {},
   "outputs": [
    {
     "data": {
      "text/plain": [
       "count    5.251000e+03\n",
       "mean     9.924783e+05\n",
       "std      3.306271e+07\n",
       "min      3.998097e+00\n",
       "25%      1.500777e+02\n",
       "50%      5.714121e+02\n",
       "75%      3.057345e+03\n",
       "max      1.806556e+09\n",
       "dtype: float64"
      ]
     },
     "execution_count": 18,
     "metadata": {},
     "output_type": "execute_result"
    }
   ],
   "source": [
    "# var: Return unbiased variance over requested axis (divided by N-1)\n",
    "columns = df_train.columns \n",
    "df_genes = df_train[columns[:-10]]\n",
    "var_genes = df_genes.var()\n",
    "var_genes.describe()"
   ]
  },
  {
   "cell_type": "code",
   "execution_count": 19,
   "metadata": {},
   "outputs": [],
   "source": [
    "# Remove genes with variance is lower than 150 (25%)\n",
    "genes_to_remove = var_genes[var_genes<150].index\n",
    "# genes_to_remove.__len__ # 1382"
   ]
  },
  {
   "cell_type": "code",
   "execution_count": 20,
   "metadata": {},
   "outputs": [],
   "source": [
    "df_train.drop(genes_to_remove, axis=1, inplace=True)\n",
    "df_test.drop(genes_to_remove, axis=1, inplace=True)"
   ]
  },
  {
   "cell_type": "code",
   "execution_count": 22,
   "metadata": {},
   "outputs": [
    {
     "name": "stdout",
     "output_type": "stream",
     "text": [
      "Train:  (1879, 3948)\n",
      "Val:  (470, 3948)\n"
     ]
    }
   ],
   "source": [
    "print(\"Train: \", df_train.shape) \n",
    "print(\"Val: \", df_test.shape)"
   ]
  },
  {
   "attachments": {},
   "cell_type": "markdown",
   "metadata": {},
   "source": [
    "### Genes with low absolute value "
   ]
  },
  {
   "cell_type": "code",
   "execution_count": 27,
   "metadata": {},
   "outputs": [
    {
     "data": {
      "text/plain": [
       "count      2881.000000\n",
       "mean       1931.885037\n",
       "std       13943.823300\n",
       "min         200.089580\n",
       "25%         295.125520\n",
       "50%         480.801024\n",
       "75%         991.302078\n",
       "max      591697.185022\n",
       "dtype: float64"
      ]
     },
     "execution_count": 27,
     "metadata": {},
     "output_type": "execute_result"
    }
   ],
   "source": [
    "# Remove genes where no value > threshold\n",
    "columns = df_train.columns \n",
    "df_genes = df_train[columns[:-10]]\n",
    "max_genes = df_genes.max()\n",
    "max_genes.describe()"
   ]
  },
  {
   "cell_type": "code",
   "execution_count": 28,
   "metadata": {},
   "outputs": [],
   "source": [
    "# Remove genes with max value is lower than 200\n",
    "genes_to_remove = max_genes[max_genes<200].index\n",
    "# genes_to_remove.shape   # 1078"
   ]
  },
  {
   "cell_type": "code",
   "execution_count": 29,
   "metadata": {},
   "outputs": [],
   "source": [
    "df_train.drop(genes_to_remove, axis=1, inplace=True)\n",
    "df_test.drop(genes_to_remove, axis=1, inplace=True)"
   ]
  },
  {
   "cell_type": "code",
   "execution_count": 31,
   "metadata": {},
   "outputs": [
    {
     "name": "stdout",
     "output_type": "stream",
     "text": [
      "Train:  (1879, 2891)\n",
      "Val:  (470, 2891)\n"
     ]
    }
   ],
   "source": [
    "print(\"Train: \", df_train.shape) \n",
    "print(\"Val: \", df_test.shape)"
   ]
  },
  {
   "attachments": {},
   "cell_type": "markdown",
   "metadata": {},
   "source": [
    "## Save data"
   ]
  },
  {
   "cell_type": "code",
   "execution_count": 32,
   "metadata": {},
   "outputs": [],
   "source": [
    "# Save merged dataFrame\n",
    "file='DataPatients_train.csv'\n",
    "df_train.to_csv(file, sep=';', na_rep='n.a.')\n",
    "\n",
    "file='DataPatients_test.csv'\n",
    "df_test.to_csv(file, sep=';', na_rep='n.a.')"
   ]
  },
  {
   "cell_type": "code",
   "execution_count": 33,
   "metadata": {},
   "outputs": [
    {
     "data": {
      "text/html": [
       "<div>\n",
       "<style scoped>\n",
       "    .dataframe tbody tr th:only-of-type {\n",
       "        vertical-align: middle;\n",
       "    }\n",
       "\n",
       "    .dataframe tbody tr th {\n",
       "        vertical-align: top;\n",
       "    }\n",
       "\n",
       "    .dataframe thead th {\n",
       "        text-align: right;\n",
       "    }\n",
       "</style>\n",
       "<table border=\"1\" class=\"dataframe\">\n",
       "  <thead>\n",
       "    <tr style=\"text-align: right;\">\n",
       "      <th></th>\n",
       "      <th>ENSG00000000419</th>\n",
       "      <th>ENSG00000000938</th>\n",
       "      <th>ENSG00000002330</th>\n",
       "      <th>ENSG00000002549</th>\n",
       "      <th>ENSG00000002586</th>\n",
       "      <th>ENSG00000003056</th>\n",
       "      <th>ENSG00000003436</th>\n",
       "      <th>ENSG00000003756</th>\n",
       "      <th>ENSG00000004059</th>\n",
       "      <th>ENSG00000004142</th>\n",
       "      <th>...</th>\n",
       "      <th>Sample ID</th>\n",
       "      <th>Stage</th>\n",
       "      <th>Sex</th>\n",
       "      <th>Age</th>\n",
       "      <th>Sample-supplying institution</th>\n",
       "      <th>Training series</th>\n",
       "      <th>Evaluation series</th>\n",
       "      <th>Validation series</th>\n",
       "      <th>Class_group</th>\n",
       "      <th>Patient_group</th>\n",
       "    </tr>\n",
       "  </thead>\n",
       "  <tbody>\n",
       "    <tr>\n",
       "      <th>2288-MGH-NSCLC-L51-TR521</th>\n",
       "      <td>10.029376</td>\n",
       "      <td>9.117101</td>\n",
       "      <td>41.958618</td>\n",
       "      <td>52.466930</td>\n",
       "      <td>3943.586674</td>\n",
       "      <td>20.162047</td>\n",
       "      <td>111.060717</td>\n",
       "      <td>0.000000</td>\n",
       "      <td>419.563521</td>\n",
       "      <td>2.884146</td>\n",
       "      <td>...</td>\n",
       "      <td>MGH-NSCLC-L51-TR521</td>\n",
       "      <td>IV</td>\n",
       "      <td>F</td>\n",
       "      <td>64.0</td>\n",
       "      <td>Institute 4</td>\n",
       "      <td>0</td>\n",
       "      <td>0</td>\n",
       "      <td>1</td>\n",
       "      <td>Malignant</td>\n",
       "      <td>Non-Small-Cell Lung Cancer</td>\n",
       "    </tr>\n",
       "    <tr>\n",
       "      <th>783-MGH-BrCa-P16-TR613</th>\n",
       "      <td>7.703162</td>\n",
       "      <td>24.275263</td>\n",
       "      <td>43.883211</td>\n",
       "      <td>42.312633</td>\n",
       "      <td>3774.882464</td>\n",
       "      <td>28.428898</td>\n",
       "      <td>87.091961</td>\n",
       "      <td>3.796378</td>\n",
       "      <td>377.113260</td>\n",
       "      <td>17.229311</td>\n",
       "      <td>...</td>\n",
       "      <td>MGH-BrCa-P16-TR613</td>\n",
       "      <td>IV</td>\n",
       "      <td>F</td>\n",
       "      <td>58.0</td>\n",
       "      <td>Institute 4</td>\n",
       "      <td>0</td>\n",
       "      <td>0</td>\n",
       "      <td>1</td>\n",
       "      <td>Malignant</td>\n",
       "      <td>Breast Cancer</td>\n",
       "    </tr>\n",
       "  </tbody>\n",
       "</table>\n",
       "<p>2 rows × 2891 columns</p>\n",
       "</div>"
      ],
      "text/plain": [
       "                          ENSG00000000419  ENSG00000000938  ENSG00000002330  \\\n",
       "2288-MGH-NSCLC-L51-TR521        10.029376         9.117101        41.958618   \n",
       "783-MGH-BrCa-P16-TR613           7.703162        24.275263        43.883211   \n",
       "\n",
       "                          ENSG00000002549  ENSG00000002586  ENSG00000003056  \\\n",
       "2288-MGH-NSCLC-L51-TR521        52.466930      3943.586674        20.162047   \n",
       "783-MGH-BrCa-P16-TR613          42.312633      3774.882464        28.428898   \n",
       "\n",
       "                          ENSG00000003436  ENSG00000003756  ENSG00000004059  \\\n",
       "2288-MGH-NSCLC-L51-TR521       111.060717         0.000000       419.563521   \n",
       "783-MGH-BrCa-P16-TR613          87.091961         3.796378       377.113260   \n",
       "\n",
       "                          ENSG00000004142  ...            Sample ID  Stage  \\\n",
       "2288-MGH-NSCLC-L51-TR521         2.884146  ...  MGH-NSCLC-L51-TR521     IV   \n",
       "783-MGH-BrCa-P16-TR613          17.229311  ...   MGH-BrCa-P16-TR613     IV   \n",
       "\n",
       "                          Sex   Age  Sample-supplying institution  \\\n",
       "2288-MGH-NSCLC-L51-TR521    F  64.0                   Institute 4   \n",
       "783-MGH-BrCa-P16-TR613      F  58.0                   Institute 4   \n",
       "\n",
       "                          Training series  Evaluation series  \\\n",
       "2288-MGH-NSCLC-L51-TR521                0                  0   \n",
       "783-MGH-BrCa-P16-TR613                  0                  0   \n",
       "\n",
       "                          Validation series  Class_group  \\\n",
       "2288-MGH-NSCLC-L51-TR521                  1    Malignant   \n",
       "783-MGH-BrCa-P16-TR613                    1    Malignant   \n",
       "\n",
       "                                       Patient_group  \n",
       "2288-MGH-NSCLC-L51-TR521  Non-Small-Cell Lung Cancer  \n",
       "783-MGH-BrCa-P16-TR613                 Breast Cancer  \n",
       "\n",
       "[2 rows x 2891 columns]"
      ]
     },
     "execution_count": 33,
     "metadata": {},
     "output_type": "execute_result"
    }
   ],
   "source": [
    "df_test.head(2)"
   ]
  },
  {
   "cell_type": "code",
   "execution_count": null,
   "metadata": {},
   "outputs": [],
   "source": []
  }
 ],
 "metadata": {
  "kernelspec": {
   "display_name": "Python 3.10.5 64-bit",
   "language": "python",
   "name": "python3"
  },
  "language_info": {
   "codemirror_mode": {
    "name": "ipython",
    "version": 3
   },
   "file_extension": ".py",
   "mimetype": "text/x-python",
   "name": "python",
   "nbconvert_exporter": "python",
   "pygments_lexer": "ipython3",
   "version": "3.10.5"
  },
  "orig_nbformat": 4,
  "vscode": {
   "interpreter": {
    "hash": "7efbd634259f8e5f569f443ec65758432c9a08fec7ecc1e2b0020067d32b9947"
   }
  }
 },
 "nbformat": 4,
 "nbformat_minor": 2
}
