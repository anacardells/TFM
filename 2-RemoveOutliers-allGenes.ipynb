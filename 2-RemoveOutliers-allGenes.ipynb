{
 "cells": [
  {
   "attachments": {},
   "cell_type": "markdown",
   "metadata": {},
   "source": [
    "# Explore Data and Look for Outliers"
   ]
  },
  {
   "cell_type": "code",
   "execution_count": 1,
   "metadata": {},
   "outputs": [],
   "source": [
    "# Imports\n",
    "import math\n",
    "import numpy as np\n",
    "import pandas as pd\n",
    "from scipy.stats import shapiro \n",
    "\n",
    "import matplotlib.pyplot as plt\n",
    "import seaborn as sns\n",
    "\n",
    "from sklearn.decomposition import PCA\n",
    "from sklearn.manifold import TSNE\n",
    "from sklearn.cluster import DBSCAN\n",
    "from sklearn.metrics.cluster import adjusted_rand_score"
   ]
  },
  {
   "attachments": {},
   "cell_type": "markdown",
   "metadata": {},
   "source": [
    "## Missing data"
   ]
  },
  {
   "cell_type": "code",
   "execution_count": 3,
   "metadata": {},
   "outputs": [],
   "source": [
    "# Read merged dataFrame\n",
    "file='DataPatientsWithGT.csv'\n",
    "df = pd.read_csv(file,sep=';',index_col=0, na_values='n.a.', dtype={'Stage': 'object', 'Age': 'float64'})"
   ]
  },
  {
   "cell_type": "code",
   "execution_count": 4,
   "metadata": {},
   "outputs": [
    {
     "data": {
      "text/html": [
       "<div>\n",
       "<style scoped>\n",
       "    .dataframe tbody tr th:only-of-type {\n",
       "        vertical-align: middle;\n",
       "    }\n",
       "\n",
       "    .dataframe tbody tr th {\n",
       "        vertical-align: top;\n",
       "    }\n",
       "\n",
       "    .dataframe thead th {\n",
       "        text-align: right;\n",
       "    }\n",
       "</style>\n",
       "<table border=\"1\" class=\"dataframe\">\n",
       "  <thead>\n",
       "    <tr style=\"text-align: right;\">\n",
       "      <th></th>\n",
       "      <th>ENSG00000000419</th>\n",
       "      <th>ENSG00000000460</th>\n",
       "      <th>ENSG00000000938</th>\n",
       "      <th>ENSG00000001036</th>\n",
       "      <th>ENSG00000001461</th>\n",
       "      <th>ENSG00000001497</th>\n",
       "      <th>ENSG00000001629</th>\n",
       "      <th>ENSG00000001631</th>\n",
       "      <th>ENSG00000002330</th>\n",
       "      <th>ENSG00000002549</th>\n",
       "      <th>...</th>\n",
       "      <th>Sample ID</th>\n",
       "      <th>Stage</th>\n",
       "      <th>Sex</th>\n",
       "      <th>Age</th>\n",
       "      <th>Sample-supplying institution</th>\n",
       "      <th>Training series</th>\n",
       "      <th>Evaluation series</th>\n",
       "      <th>Validation series</th>\n",
       "      <th>Class_group</th>\n",
       "      <th>Patient_group</th>\n",
       "    </tr>\n",
       "  </thead>\n",
       "  <tbody>\n",
       "    <tr>\n",
       "      <th>1-Vumc-HD-101-TR922</th>\n",
       "      <td>3.9378</td>\n",
       "      <td>1.555228</td>\n",
       "      <td>7.445603</td>\n",
       "      <td>13.655275</td>\n",
       "      <td>11.121538</td>\n",
       "      <td>3.471206</td>\n",
       "      <td>5.986674</td>\n",
       "      <td>4.978068</td>\n",
       "      <td>46.477912</td>\n",
       "      <td>25.632179</td>\n",
       "      <td>...</td>\n",
       "      <td>Vumc-HD-101-TR922</td>\n",
       "      <td>NaN</td>\n",
       "      <td>F</td>\n",
       "      <td>35.0</td>\n",
       "      <td>Institute 13</td>\n",
       "      <td>1</td>\n",
       "      <td>0</td>\n",
       "      <td>0</td>\n",
       "      <td>nonMalignant</td>\n",
       "      <td>Asymptomatic controls</td>\n",
       "    </tr>\n",
       "  </tbody>\n",
       "</table>\n",
       "<p>1 rows × 5261 columns</p>\n",
       "</div>"
      ],
      "text/plain": [
       "                     ENSG00000000419  ENSG00000000460  ENSG00000000938  \\\n",
       "1-Vumc-HD-101-TR922           3.9378         1.555228         7.445603   \n",
       "\n",
       "                     ENSG00000001036  ENSG00000001461  ENSG00000001497  \\\n",
       "1-Vumc-HD-101-TR922        13.655275        11.121538         3.471206   \n",
       "\n",
       "                     ENSG00000001629  ENSG00000001631  ENSG00000002330  \\\n",
       "1-Vumc-HD-101-TR922         5.986674         4.978068        46.477912   \n",
       "\n",
       "                     ENSG00000002549  ...          Sample ID  Stage  Sex  \\\n",
       "1-Vumc-HD-101-TR922        25.632179  ...  Vumc-HD-101-TR922    NaN    F   \n",
       "\n",
       "                      Age  Sample-supplying institution  Training series  \\\n",
       "1-Vumc-HD-101-TR922  35.0                  Institute 13                1   \n",
       "\n",
       "                     Evaluation series  Validation series   Class_group  \\\n",
       "1-Vumc-HD-101-TR922                  0                  0  nonMalignant   \n",
       "\n",
       "                             Patient_group  \n",
       "1-Vumc-HD-101-TR922  Asymptomatic controls  \n",
       "\n",
       "[1 rows x 5261 columns]"
      ]
     },
     "execution_count": 4,
     "metadata": {},
     "output_type": "execute_result"
    }
   ],
   "source": [
    "# print(df.shape)\n",
    "df.head(1)"
   ]
  },
  {
   "cell_type": "code",
   "execution_count": 5,
   "metadata": {},
   "outputs": [
    {
     "name": "stdout",
     "output_type": "stream",
     "text": [
      "Columns with Nans ['Stage', 'Sex', 'Age']\n"
     ]
    }
   ],
   "source": [
    "# Missing data\n",
    "list_na_columns = df.columns[df.isna().any()].tolist()\n",
    "print(\"Columns with Nans\", list_na_columns)"
   ]
  },
  {
   "cell_type": "code",
   "execution_count": 6,
   "metadata": {},
   "outputs": [
    {
     "name": "stdout",
     "output_type": "stream",
     "text": [
      "Number of Nans in Stage:  979\n",
      "Number of Nans in Sex:  20\n",
      "Number of Nans in Age:  23\n"
     ]
    }
   ],
   "source": [
    "print(\"Number of Nans in Stage: \", df['Stage'].isna().sum()) # 723 non-malig + 256 malig\n",
    "print(\"Number of Nans in Sex: \", df['Sex'].isna().sum())\n",
    "print(\"Number of Nans in Age: \", df['Age'].isna().sum())"
   ]
  },
  {
   "attachments": {},
   "cell_type": "markdown",
   "metadata": {},
   "source": [
    "## Check for Outliers\n"
   ]
  },
  {
   "attachments": {},
   "cell_type": "markdown",
   "metadata": {},
   "source": [
    "We will remove those patients that do not belong to their group. The outliers analysis has to be done with all characteristics (all genes)."
   ]
  },
  {
   "attachments": {},
   "cell_type": "markdown",
   "metadata": {},
   "source": [
    "We will focus on Class_group: Malignant versus nonMalignant"
   ]
  },
  {
   "cell_type": "code",
   "execution_count": 7,
   "metadata": {},
   "outputs": [],
   "source": [
    "# Remove columns that are repeated or irrelevant\n",
    "df_class= df.drop(['Sample ID', 'Stage', 'Sex', 'Age', 'Sample-supplying institution', 'Training series', 'Evaluation series', 'Validation series', 'Patient_group'], axis=1, inplace=False)"
   ]
  },
  {
   "attachments": {},
   "cell_type": "markdown",
   "metadata": {},
   "source": [
    "### Check data Distribution"
   ]
  },
  {
   "cell_type": "code",
   "execution_count": 8,
   "metadata": {},
   "outputs": [
    {
     "data": {
      "text/plain": [
       "count     5251.000000\n",
       "mean       190.439916\n",
       "std       1769.654240\n",
       "min          1.617180\n",
       "25%         11.553920\n",
       "50%         24.861129\n",
       "75%         68.791953\n",
       "max      84557.263507\n",
       "dtype: float64"
      ]
     },
     "execution_count": 8,
     "metadata": {},
     "output_type": "execute_result"
    }
   ],
   "source": [
    "# Check data distribution\n",
    "# If data is normally distributed (in more general sense, symmetrically distributed), then the result with PCA is more robust.\n",
    "# Otherwise, It is better to use t-SNE\n",
    "columns = df_class.columns\n",
    "Patient_mean = df_class[columns[0:-1]].mean(axis=0)\n",
    "Patient_mean.describe()\n"
   ]
  },
  {
   "cell_type": "code",
   "execution_count": 9,
   "metadata": {},
   "outputs": [
    {
     "data": {
      "text/plain": [
       "ENSG00000000419    33.676838\n",
       "ENSG00000000460     4.758876\n",
       "ENSG00000000938    88.086458\n",
       "ENSG00000001036    19.834605\n",
       "ENSG00000001461     8.232891\n",
       "dtype: float64"
      ]
     },
     "execution_count": 9,
     "metadata": {},
     "output_type": "execute_result"
    }
   ],
   "source": [
    "Patient_mean.head(5)"
   ]
  },
  {
   "cell_type": "code",
   "execution_count": 10,
   "metadata": {},
   "outputs": [
    {
     "name": "stdout",
     "output_type": "stream",
     "text": [
      "Gene with low mean:  ENSG00000000460\n",
      "Gene with medium mean:  ENSG00000000419\n",
      "Gene with high mean:  ENSG00000000938\n"
     ]
    }
   ],
   "source": [
    "# Look for genes to check distribution on\n",
    "print(\"Gene with low mean: \", Patient_mean.loc[Patient_mean<11].index[0])\n",
    "# Patient_mean['ENSG00000000460']   # 4.6\n",
    "\n",
    "print(\"Gene with medium mean: \", Patient_mean[Patient_mean.between(11,67)].index[0])\n",
    "# Patient_mean['ENSG00000000419']   # 32.6\n",
    "\n",
    "\n",
    "print(\"Gene with high mean: \", Patient_mean.loc[Patient_mean>67].index[0])\n",
    "# Patient_mean['ENSG00000000938']   # 85"
   ]
  },
  {
   "cell_type": "code",
   "execution_count": 11,
   "metadata": {},
   "outputs": [
    {
     "data": {
      "image/png": "[encoded data removed]",
      "text/plain": [
       "<Figure size 1080x360 with 3 Axes>"
      ]
     },
     "metadata": {
      "needs_background": "light"
     },
     "output_type": "display_data"
    }
   ],
   "source": [
    "# Represent the genes distribution\n",
    "fig, ax = plt.subplots(1, 3, figsize=(15, 5))\n",
    "sns.boxplot(x=df['ENSG00000000460'], ax=ax[0])\n",
    "sns.boxplot(x=df['ENSG00000000419'], ax=ax[1])\n",
    "sns.boxplot(x=df['ENSG00000000938'], ax=ax[2])\n",
    "plt.show()"
   ]
  },
  {
   "attachments": {},
   "cell_type": "markdown",
   "metadata": {},
   "source": [
    "They are clearly not simetrical and not following a normal distribution.\n",
    "\n",
    "We can also perform a Shapiro-Wilk Test. If the p-value of the test is greater than α = .05, then the data is assumed to be normally distributed.\n"
   ]
  },
  {
   "cell_type": "code",
   "execution_count": 12,
   "metadata": {},
   "outputs": [
    {
     "data": {
      "text/plain": [
       "ShapiroResult(statistic=0.7125440239906311, pvalue=0.0)"
      ]
     },
     "execution_count": 12,
     "metadata": {},
     "output_type": "execute_result"
    }
   ],
   "source": [
    "np.random.seed(42)\n",
    "shapiro(df['ENSG00000000460'])"
   ]
  },
  {
   "attachments": {},
   "cell_type": "markdown",
   "metadata": {},
   "source": [
    "Since the p-value is less than .05, we reject the null hypothesis of the Shapiro-Wilk test.\n",
    "\n",
    "This means we have sufficient evidence to say that the sample data does not come from a normal distribution."
   ]
  },
  {
   "cell_type": "code",
   "execution_count": 13,
   "metadata": {},
   "outputs": [
    {
     "data": {
      "text/plain": [
       "ShapiroResult(statistic=0.7549484372138977, pvalue=0.0)"
      ]
     },
     "execution_count": 13,
     "metadata": {},
     "output_type": "execute_result"
    }
   ],
   "source": [
    "shapiro(df['ENSG00000000419'])"
   ]
  },
  {
   "cell_type": "code",
   "execution_count": 14,
   "metadata": {},
   "outputs": [
    {
     "data": {
      "text/plain": [
       "ShapiroResult(statistic=0.6500592827796936, pvalue=0.0)"
      ]
     },
     "execution_count": 14,
     "metadata": {},
     "output_type": "execute_result"
    }
   ],
   "source": [
    "shapiro(df['ENSG00000000938'])"
   ]
  },
  {
   "attachments": {},
   "cell_type": "markdown",
   "metadata": {},
   "source": [
    "Same for the other two genes tested."
   ]
  },
  {
   "attachments": {},
   "cell_type": "markdown",
   "metadata": {},
   "source": [
    "### Apply tSNE to look for abnormalities (Malignant vs. nonMalignant)"
   ]
  },
  {
   "cell_type": "code",
   "execution_count": 15,
   "metadata": {},
   "outputs": [
    {
     "name": "stdout",
     "output_type": "stream",
     "text": [
      "[t-SNE] Computing 91 nearest neighbors...\n",
      "[t-SNE] Indexed 2351 samples in 0.096s...\n",
      "[t-SNE] Computed neighbors for 2351 samples in 1.010s...\n",
      "[t-SNE] Computed conditional probabilities for sample 1000 / 2351\n",
      "[t-SNE] Computed conditional probabilities for sample 2000 / 2351\n",
      "[t-SNE] Computed conditional probabilities for sample 2351 / 2351\n",
      "[t-SNE] Mean sigma: 11889.659432\n",
      "[t-SNE] KL divergence after 250 iterations with early exaggeration: 73.156136\n",
      "[t-SNE] KL divergence after 4000 iterations: 1.355329\n"
     ]
    },
    {
     "data": {
      "text/plain": [
       "[Text(0.5, 1.0, 'tSNE')]"
      ]
     },
     "execution_count": 15,
     "metadata": {},
     "output_type": "execute_result"
    },
    {
     "data": {
      "image/png": "[encoded data removed]",
      "text/plain": [
       "<Figure size 432x288 with 1 Axes>"
      ]
     },
     "metadata": {
      "needs_background": "light"
     },
     "output_type": "display_data"
    }
   ],
   "source": [
    "X = df_class[columns[0:-1]]\n",
    "y = df_class[columns[-1]]\n",
    "\n",
    "tsne = TSNE(n_components=2, verbose=1, random_state=42, learning_rate='auto', init='random', n_iter=4000)\n",
    "z = tsne.fit_transform(X)\n",
    "\n",
    "df_z = pd.DataFrame()\n",
    "df_z[\"y\"] = y\n",
    "df_z[\"comp-1\"] = z[:,0]\n",
    "df_z[\"comp-2\"] = z[:,1]\n",
    "\n",
    "sns.scatterplot(x=\"comp-1\", y=\"comp-2\", hue=df_z.y.tolist(),\n",
    "                palette=sns.color_palette(\"hls\", 2),\n",
    "                data=df_z).set(title=\"tSNE\") "
   ]
  },
  {
   "attachments": {},
   "cell_type": "markdown",
   "metadata": {},
   "source": [
    "### Apply PCA to look for abnormalities (although we know data does not follow a normal distribution)\n"
   ]
  },
  {
   "cell_type": "code",
   "execution_count": 16,
   "metadata": {},
   "outputs": [
    {
     "name": "stderr",
     "output_type": "stream",
     "text": [
      "c:\\Users\\acard\\AppData\\Local\\Programs\\Python\\Python310\\lib\\site-packages\\seaborn\\_decorators.py:36: FutureWarning: Pass the following variables as keyword args: x, y. From version 0.12, the only valid positional argument will be `data`, and passing other arguments without an explicit keyword will result in an error or misinterpretation.\n",
      "  warnings.warn(\n"
     ]
    },
    {
     "data": {
      "text/plain": [
       "<AxesSubplot:>"
      ]
     },
     "execution_count": 16,
     "metadata": {},
     "output_type": "execute_result"
    },
    {
     "data": {
      "image/png": "[encoded data removed]",
      "text/plain": [
       "<Figure size 432x288 with 1 Axes>"
      ]
     },
     "metadata": {
      "needs_background": "light"
     },
     "output_type": "display_data"
    }
   ],
   "source": [
    "X = df_class[columns[0:-1]]\n",
    "y = df_class[columns[-1]]\n",
    "\n",
    "pca = PCA(n_components=2, random_state=42)\n",
    "z = pca.fit_transform(X)\n",
    "\n",
    "sns.scatterplot(z[:, 0], z[:, 1], hue=y.tolist(), palette=sns.color_palette(\"hls\", 2))"
   ]
  },
  {
   "cell_type": "code",
   "execution_count": 17,
   "metadata": {},
   "outputs": [
    {
     "name": "stdout",
     "output_type": "stream",
     "text": [
      "[1671, 2100]\n",
      "2591-Pang-NSCLC-U5588-T0-TR2706    Malignant\n",
      "Name: Class_group, dtype: object\n",
      "3248-Vumc-P-PH-001-012-TR1506    nonMalignant\n",
      "Name: Class_group, dtype: object\n"
     ]
    }
   ],
   "source": [
    "# Find potential outliers\n",
    "threshold = 350000\n",
    "index_outliers = [i for i,v in enumerate(z) if v[0] > threshold]\n",
    "print(index_outliers)\n",
    "\n",
    "print(y.iloc[[index_outliers[0]]])\n",
    "print(y.iloc[[index_outliers[1]]])"
   ]
  },
  {
   "attachments": {},
   "cell_type": "markdown",
   "metadata": {},
   "source": [
    "### Apply robust PCA (rPCA) to look for abnormalities"
   ]
  },
  {
   "cell_type": "code",
   "execution_count": 18,
   "metadata": {},
   "outputs": [],
   "source": [
    "# Download and import robust PCA from https://github.com/dganguli/robust-pca\n",
    "# https://stackoverflow.com/questions/40721260/how-to-use-robust-pca-output-as-principal-component-eigenvectors-from-traditio\n",
    "from robust_pca_master.r_pca import R_pca"
   ]
  },
  {
   "attachments": {},
   "cell_type": "markdown",
   "metadata": {},
   "source": [
    "The robust-pca code factors the data matrix X into two matrices, L and S which are \"low-rank\" and \"sparse\" matrices. \n",
    "* L is what's mostly constant between the various observations, while \n",
    "* S is what varies. \n",
    "\n",
    "If you just want the eigenvectors, treat the S as junk (the \"large outliers\" you're wanting to clip out) and do an eigenanalysis on the L matrix."
   ]
  },
  {
   "cell_type": "code",
   "execution_count": 19,
   "metadata": {},
   "outputs": [
    {
     "name": "stdout",
     "output_type": "stream",
     "text": [
      "iteration: 1, error: 1990.1703331225135\n",
      "iteration: 100, error: 27.632392129359168\n",
      "iteration: 200, error: 14.403322429847606\n",
      "iteration: 300, error: 9.669024189674305\n",
      "iteration: 400, error: 7.469148062011375\n",
      "iteration: 500, error: 5.767473803388637\n",
      "iteration: 600, error: 4.611243056326205\n",
      "iteration: 700, error: 3.9233229472552034\n",
      "iteration: 800, error: 3.420352840955757\n",
      "iteration: 900, error: 3.0051897710581397\n",
      "iteration: 1000, error: 2.4530234289544692\n"
     ]
    },
    {
     "name": "stderr",
     "output_type": "stream",
     "text": [
      "c:\\Users\\acard\\AppData\\Local\\Programs\\Python\\Python310\\lib\\site-packages\\seaborn\\_decorators.py:36: FutureWarning: Pass the following variables as keyword args: x, y. From version 0.12, the only valid positional argument will be `data`, and passing other arguments without an explicit keyword will result in an error or misinterpretation.\n",
      "  warnings.warn(\n"
     ]
    },
    {
     "data": {
      "text/plain": [
       "<AxesSubplot:>"
      ]
     },
     "execution_count": 19,
     "metadata": {},
     "output_type": "execute_result"
    },
    {
     "data": {
      "image/png": "[encoded data removed]",
      "text/plain": [
       "<Figure size 432x288 with 1 Axes>"
      ]
     },
     "metadata": {
      "needs_background": "light"
     },
     "output_type": "display_data"
    }
   ],
   "source": [
    "X = df_class[columns[0:-1]]\n",
    "y = df_class[columns[-1]]\n",
    "\n",
    "L, S = R_pca(X).fit()\n",
    "\n",
    "pca = PCA(n_components=2, random_state=42)\n",
    "z = pca.fit_transform(L)\n",
    "\n",
    "sns.scatterplot(z[:, 0], z[:, 1], hue=y.tolist(), palette=sns.color_palette(\"hls\", 2))"
   ]
  },
  {
   "cell_type": "code",
   "execution_count": 20,
   "metadata": {},
   "outputs": [
    {
     "name": "stdout",
     "output_type": "stream",
     "text": [
      "[1671, 2100]\n",
      "2591-Pang-NSCLC-U5588-T0-TR2706    Malignant\n",
      "Name: Class_group, dtype: object\n",
      "3248-Vumc-P-PH-001-012-TR1506    nonMalignant\n",
      "Name: Class_group, dtype: object\n"
     ]
    }
   ],
   "source": [
    "# Find potential outliers\n",
    "threshold = 350000\n",
    "index_outliers = [i for i,v in enumerate(z) if v[0] > threshold]\n",
    "print(index_outliers)\n",
    "\n",
    "print(y.iloc[[index_outliers[0]]])\n",
    "print(y.iloc[[index_outliers[1]]])"
   ]
  },
  {
   "attachments": {},
   "cell_type": "markdown",
   "metadata": {},
   "source": [
    "### Apply Multivariate outlier detection with PyOD"
   ]
  },
  {
   "attachments": {},
   "cell_type": "markdown",
   "metadata": {},
   "source": [
    "Idea from https://towardsdatascience.com/how-to-perform-multivariate-outlier-detection-in-python-pyod-for-machine-learning-b0a9c557a21c\n",
    "\n",
    "PyOD is the most comprehensive and scalable Python library for detecting outlying objects in multivariate data. "
   ]
  },
  {
   "attachments": {},
   "cell_type": "markdown",
   "metadata": {},
   "source": [
    "Isolation Forest: works on almost any type of dataset but is specifically designed for high-dimensional, complex ones. Even though it is a collection of different type of decision trees, called ITrees, it is fast and has a high performance. It can also handle data with irregular, non-normal distributions.\n",
    "\n",
    "Local Outlier Factor: particularly good for datasets with data points that are clustered together as it calculates anomaly scores using local density. It works well with high-dimensional data and can be faster than IForest"
   ]
  },
  {
   "attachments": {},
   "cell_type": "markdown",
   "metadata": {},
   "source": [
    "@article{zhao2019pyod,\n",
    "    author  = {Zhao, Yue and Nasrullah, Zain and Li, Zheng},\n",
    "    title   = {PyOD: A Python Toolbox for Scalable Outlier Detection},\n",
    "    journal = {Journal of Machine Learning Research},\n",
    "    year    = {2019},\n",
    "    volume  = {20},\n",
    "    number  = {96},\n",
    "    pages   = {1-7},\n",
    "    url     = {http://jmlr.org/papers/v20/19-011.html}\n",
    "}"
   ]
  },
  {
   "cell_type": "code",
   "execution_count": 21,
   "metadata": {},
   "outputs": [
    {
     "name": "stderr",
     "output_type": "stream",
     "text": [
      "c:\\Users\\acard\\AppData\\Local\\Programs\\Python\\Python310\\lib\\site-packages\\sklearn\\base.py:443: UserWarning: X has feature names, but IsolationForest was fitted without feature names\n",
      "  warnings.warn(\n"
     ]
    },
    {
     "name": "stdout",
     "output_type": "stream",
     "text": [
      "The number of outliers: 2\n",
      "Percentage of outliers: 0.0009\n"
     ]
    }
   ],
   "source": [
    "X = df_class[columns[0:-1]]\n",
    "y = df_class[columns[-1]]\n",
    "\n",
    "# pip install pyod\n",
    "# from pyod.models.lof import LOF\n",
    "from pyod.models.iforest import IForest\n",
    "\n",
    "# predict_proba returns two columns for each sample:\n",
    "#     the first column is the probability of the sample being an inlier and \n",
    "#     the second is the probability of the sample being an outlier. \n",
    "\n",
    "iforest = IForest(n_estimators=500).fit(X)\n",
    "probs = iforest.predict_proba(X)\n",
    "\n",
    "# We can select samples that have at least 80%, 90%, or n% outlier probability.\n",
    "# Set a confidence threshold to choose outliers based on probability confidence\n",
    "# If you are dealing with sensitive data like medical records where it is critical to avoid false positives, \n",
    "# you should aim for over 90%. 95% and 99% are pretty common as well.\n",
    "threshold = 0.9\n",
    "\n",
    "# Create a mask that returns True if probs over threshold\n",
    "is_outlier = probs[:, 1] > threshold\n",
    "outliers_X_probs = X[is_outlier]\n",
    "\n",
    "# Count up the outliers\n",
    "num_outliers = len(outliers_X_probs)\n",
    "print(f\"The number of outliers: {num_outliers}\")\n",
    "print(f\"Percentage of outliers: {num_outliers / len(X):.4f}\")\n"
   ]
  },
  {
   "cell_type": "code",
   "execution_count": 22,
   "metadata": {},
   "outputs": [
    {
     "data": {
      "text/html": [
       "<div>\n",
       "<style scoped>\n",
       "    .dataframe tbody tr th:only-of-type {\n",
       "        vertical-align: middle;\n",
       "    }\n",
       "\n",
       "    .dataframe tbody tr th {\n",
       "        vertical-align: top;\n",
       "    }\n",
       "\n",
       "    .dataframe thead th {\n",
       "        text-align: right;\n",
       "    }\n",
       "</style>\n",
       "<table border=\"1\" class=\"dataframe\">\n",
       "  <thead>\n",
       "    <tr style=\"text-align: right;\">\n",
       "      <th></th>\n",
       "      <th>ENSG00000000419</th>\n",
       "      <th>ENSG00000000460</th>\n",
       "      <th>ENSG00000000938</th>\n",
       "      <th>ENSG00000001036</th>\n",
       "      <th>ENSG00000001461</th>\n",
       "      <th>ENSG00000001497</th>\n",
       "      <th>ENSG00000001629</th>\n",
       "      <th>ENSG00000001631</th>\n",
       "      <th>ENSG00000002330</th>\n",
       "      <th>ENSG00000002549</th>\n",
       "      <th>...</th>\n",
       "      <th>ENSG00000257267</th>\n",
       "      <th>ENSG00000257923</th>\n",
       "      <th>ENSG00000258890</th>\n",
       "      <th>ENSG00000261253</th>\n",
       "      <th>ENSG00000263563</th>\n",
       "      <th>ENSG00000264538</th>\n",
       "      <th>ENSG00000265148</th>\n",
       "      <th>ENSG00000266714</th>\n",
       "      <th>ENSG00000267243</th>\n",
       "      <th>ENSG00000271043</th>\n",
       "    </tr>\n",
       "  </thead>\n",
       "  <tbody>\n",
       "    <tr>\n",
       "      <th>128-Vumc-HD-99-TR1094</th>\n",
       "      <td>111.196291</td>\n",
       "      <td>10.456379</td>\n",
       "      <td>736.292946</td>\n",
       "      <td>57.984968</td>\n",
       "      <td>21.809161</td>\n",
       "      <td>32.673503</td>\n",
       "      <td>13.104864</td>\n",
       "      <td>32.274078</td>\n",
       "      <td>18.381672</td>\n",
       "      <td>298.370612</td>\n",
       "      <td>...</td>\n",
       "      <td>24.439540</td>\n",
       "      <td>55.899163</td>\n",
       "      <td>72.535089</td>\n",
       "      <td>179.504781</td>\n",
       "      <td>3.901433</td>\n",
       "      <td>18.244202</td>\n",
       "      <td>15.322183</td>\n",
       "      <td>36.306098</td>\n",
       "      <td>27.42784</td>\n",
       "      <td>10.978189</td>\n",
       "    </tr>\n",
       "    <tr>\n",
       "      <th>356-TR3295-HD-NKI</th>\n",
       "      <td>115.830386</td>\n",
       "      <td>0.000000</td>\n",
       "      <td>1034.225139</td>\n",
       "      <td>102.179182</td>\n",
       "      <td>6.058148</td>\n",
       "      <td>54.456270</td>\n",
       "      <td>15.016108</td>\n",
       "      <td>13.945700</td>\n",
       "      <td>17.871211</td>\n",
       "      <td>266.327887</td>\n",
       "      <td>...</td>\n",
       "      <td>6.480232</td>\n",
       "      <td>53.139131</td>\n",
       "      <td>60.824175</td>\n",
       "      <td>13.777888</td>\n",
       "      <td>45.517081</td>\n",
       "      <td>10.642535</td>\n",
       "      <td>22.345027</td>\n",
       "      <td>41.475003</td>\n",
       "      <td>7.99985</td>\n",
       "      <td>8.004993</td>\n",
       "    </tr>\n",
       "  </tbody>\n",
       "</table>\n",
       "<p>2 rows × 5251 columns</p>\n",
       "</div>"
      ],
      "text/plain": [
       "                       ENSG00000000419  ENSG00000000460  ENSG00000000938  \\\n",
       "128-Vumc-HD-99-TR1094       111.196291        10.456379       736.292946   \n",
       "356-TR3295-HD-NKI           115.830386         0.000000      1034.225139   \n",
       "\n",
       "                       ENSG00000001036  ENSG00000001461  ENSG00000001497  \\\n",
       "128-Vumc-HD-99-TR1094        57.984968        21.809161        32.673503   \n",
       "356-TR3295-HD-NKI           102.179182         6.058148        54.456270   \n",
       "\n",
       "                       ENSG00000001629  ENSG00000001631  ENSG00000002330  \\\n",
       "128-Vumc-HD-99-TR1094        13.104864        32.274078        18.381672   \n",
       "356-TR3295-HD-NKI            15.016108        13.945700        17.871211   \n",
       "\n",
       "                       ENSG00000002549  ...  ENSG00000257267  ENSG00000257923  \\\n",
       "128-Vumc-HD-99-TR1094       298.370612  ...        24.439540        55.899163   \n",
       "356-TR3295-HD-NKI           266.327887  ...         6.480232        53.139131   \n",
       "\n",
       "                       ENSG00000258890  ENSG00000261253  ENSG00000263563  \\\n",
       "128-Vumc-HD-99-TR1094        72.535089       179.504781         3.901433   \n",
       "356-TR3295-HD-NKI            60.824175        13.777888        45.517081   \n",
       "\n",
       "                       ENSG00000264538  ENSG00000265148  ENSG00000266714  \\\n",
       "128-Vumc-HD-99-TR1094        18.244202        15.322183        36.306098   \n",
       "356-TR3295-HD-NKI            10.642535        22.345027        41.475003   \n",
       "\n",
       "                       ENSG00000267243  ENSG00000271043  \n",
       "128-Vumc-HD-99-TR1094         27.42784        10.978189  \n",
       "356-TR3295-HD-NKI              7.99985         8.004993  \n",
       "\n",
       "[2 rows x 5251 columns]"
      ]
     },
     "execution_count": 22,
     "metadata": {},
     "output_type": "execute_result"
    }
   ],
   "source": [
    "outliers_X_probs"
   ]
  },
  {
   "cell_type": "code",
   "execution_count": 23,
   "metadata": {},
   "outputs": [
    {
     "data": {
      "text/plain": [
       "array([[126],\n",
       "       [313]], dtype=int64)"
      ]
     },
     "execution_count": 23,
     "metadata": {},
     "output_type": "execute_result"
    }
   ],
   "source": [
    "np.argwhere(is_outlier == True)\n"
   ]
  },
  {
   "cell_type": "code",
   "execution_count": 24,
   "metadata": {},
   "outputs": [
    {
     "name": "stdout",
     "output_type": "stream",
     "text": [
      "The number of outliers: 3\n",
      "Percentage of outliers: 0.0013\n"
     ]
    }
   ],
   "source": [
    "X = df_class[columns[0:-1]]\n",
    "y = df_class[columns[-1]]\n",
    "\n",
    "# pip install pyod\n",
    "from pyod.models.lof import LOF\n",
    "# from pyod.models.iforest import IForest\n",
    "\n",
    "# predict_proba returns two columns for each sample:\n",
    "#     the first column is the probability of the sample being an inlier and \n",
    "#     the second is the probability of the sample being an outlier. \n",
    "\n",
    "from pyod.models.iforest import IForest\n",
    "\n",
    "lof = LOF(n_neighbors=30).fit(X)\n",
    "probs = lof.predict_proba(X)\n",
    "\n",
    "# We can select samples that have at least 80%, 90%, or n% outlier probability.\n",
    "# Set a confidence threshold to choose outliers based on probability confidence\n",
    "# If you are dealing with sensitive data like medical records where it is critical to avoid false positives, \n",
    "# you should aim for over 90%. 95% and 99% are pretty common as well.\n",
    "threshold = 0.9\n",
    "\n",
    "# Create a mask that returns True if probs over threshold\n",
    "is_outlier = probs[:, 1] > threshold\n",
    "outliers_X_probs = X[is_outlier]\n",
    "\n",
    "# Count up the outliers\n",
    "num_outliers = len(outliers_X_probs)\n",
    "print(f\"The number of outliers: {num_outliers}\")\n",
    "print(f\"Percentage of outliers: {num_outliers / len(X):.4f}\")"
   ]
  },
  {
   "cell_type": "code",
   "execution_count": 25,
   "metadata": {},
   "outputs": [
    {
     "data": {
      "text/html": [
       "<div>\n",
       "<style scoped>\n",
       "    .dataframe tbody tr th:only-of-type {\n",
       "        vertical-align: middle;\n",
       "    }\n",
       "\n",
       "    .dataframe tbody tr th {\n",
       "        vertical-align: top;\n",
       "    }\n",
       "\n",
       "    .dataframe thead th {\n",
       "        text-align: right;\n",
       "    }\n",
       "</style>\n",
       "<table border=\"1\" class=\"dataframe\">\n",
       "  <thead>\n",
       "    <tr style=\"text-align: right;\">\n",
       "      <th></th>\n",
       "      <th>ENSG00000000419</th>\n",
       "      <th>ENSG00000000460</th>\n",
       "      <th>ENSG00000000938</th>\n",
       "      <th>ENSG00000001036</th>\n",
       "      <th>ENSG00000001461</th>\n",
       "      <th>ENSG00000001497</th>\n",
       "      <th>ENSG00000001629</th>\n",
       "      <th>ENSG00000001631</th>\n",
       "      <th>ENSG00000002330</th>\n",
       "      <th>ENSG00000002549</th>\n",
       "      <th>...</th>\n",
       "      <th>ENSG00000257267</th>\n",
       "      <th>ENSG00000257923</th>\n",
       "      <th>ENSG00000258890</th>\n",
       "      <th>ENSG00000261253</th>\n",
       "      <th>ENSG00000263563</th>\n",
       "      <th>ENSG00000264538</th>\n",
       "      <th>ENSG00000265148</th>\n",
       "      <th>ENSG00000266714</th>\n",
       "      <th>ENSG00000267243</th>\n",
       "      <th>ENSG00000271043</th>\n",
       "    </tr>\n",
       "  </thead>\n",
       "  <tbody>\n",
       "    <tr>\n",
       "      <th>59-Vumc-HD-121-TR1113</th>\n",
       "      <td>9.068572</td>\n",
       "      <td>0.746170</td>\n",
       "      <td>10.716800</td>\n",
       "      <td>0.000000</td>\n",
       "      <td>0.592879</td>\n",
       "      <td>0.000000</td>\n",
       "      <td>1.068762</td>\n",
       "      <td>1.364793</td>\n",
       "      <td>10.493773</td>\n",
       "      <td>1.468401</td>\n",
       "      <td>...</td>\n",
       "      <td>117.324508</td>\n",
       "      <td>3.072993</td>\n",
       "      <td>0.00000</td>\n",
       "      <td>21.573921</td>\n",
       "      <td>6.681779</td>\n",
       "      <td>16.664471</td>\n",
       "      <td>20.410052</td>\n",
       "      <td>0.345442</td>\n",
       "      <td>0.00000</td>\n",
       "      <td>839.812186</td>\n",
       "    </tr>\n",
       "    <tr>\n",
       "      <th>3089-Pisa-exIPMN-2015TAG-TR971</th>\n",
       "      <td>53.253557</td>\n",
       "      <td>3.755786</td>\n",
       "      <td>182.803853</td>\n",
       "      <td>6.942466</td>\n",
       "      <td>1.492105</td>\n",
       "      <td>10.059317</td>\n",
       "      <td>0.000000</td>\n",
       "      <td>3.434786</td>\n",
       "      <td>8.803256</td>\n",
       "      <td>62.824140</td>\n",
       "      <td>...</td>\n",
       "      <td>30.325190</td>\n",
       "      <td>29.150580</td>\n",
       "      <td>13.02680</td>\n",
       "      <td>27.147634</td>\n",
       "      <td>22.421453</td>\n",
       "      <td>5.242452</td>\n",
       "      <td>33.021096</td>\n",
       "      <td>13.910024</td>\n",
       "      <td>2.62712</td>\n",
       "      <td>15.772854</td>\n",
       "    </tr>\n",
       "    <tr>\n",
       "      <th>3095-Pisa-PDAC-2015PRO-TR966</th>\n",
       "      <td>118.813764</td>\n",
       "      <td>0.318786</td>\n",
       "      <td>52.907495</td>\n",
       "      <td>5.892670</td>\n",
       "      <td>0.000000</td>\n",
       "      <td>2.846070</td>\n",
       "      <td>2.967944</td>\n",
       "      <td>4.081559</td>\n",
       "      <td>34.371581</td>\n",
       "      <td>31.367217</td>\n",
       "      <td>...</td>\n",
       "      <td>17.611309</td>\n",
       "      <td>2.221786</td>\n",
       "      <td>3.53823</td>\n",
       "      <td>10.369143</td>\n",
       "      <td>22.837226</td>\n",
       "      <td>15.129052</td>\n",
       "      <td>8.719777</td>\n",
       "      <td>0.442749</td>\n",
       "      <td>0.00000</td>\n",
       "      <td>192.784063</td>\n",
       "    </tr>\n",
       "  </tbody>\n",
       "</table>\n",
       "<p>3 rows × 5251 columns</p>\n",
       "</div>"
      ],
      "text/plain": [
       "                                ENSG00000000419  ENSG00000000460  \\\n",
       "59-Vumc-HD-121-TR1113                  9.068572         0.746170   \n",
       "3089-Pisa-exIPMN-2015TAG-TR971        53.253557         3.755786   \n",
       "3095-Pisa-PDAC-2015PRO-TR966         118.813764         0.318786   \n",
       "\n",
       "                                ENSG00000000938  ENSG00000001036  \\\n",
       "59-Vumc-HD-121-TR1113                 10.716800         0.000000   \n",
       "3089-Pisa-exIPMN-2015TAG-TR971       182.803853         6.942466   \n",
       "3095-Pisa-PDAC-2015PRO-TR966          52.907495         5.892670   \n",
       "\n",
       "                                ENSG00000001461  ENSG00000001497  \\\n",
       "59-Vumc-HD-121-TR1113                  0.592879         0.000000   \n",
       "3089-Pisa-exIPMN-2015TAG-TR971         1.492105        10.059317   \n",
       "3095-Pisa-PDAC-2015PRO-TR966           0.000000         2.846070   \n",
       "\n",
       "                                ENSG00000001629  ENSG00000001631  \\\n",
       "59-Vumc-HD-121-TR1113                  1.068762         1.364793   \n",
       "3089-Pisa-exIPMN-2015TAG-TR971         0.000000         3.434786   \n",
       "3095-Pisa-PDAC-2015PRO-TR966           2.967944         4.081559   \n",
       "\n",
       "                                ENSG00000002330  ENSG00000002549  ...  \\\n",
       "59-Vumc-HD-121-TR1113                 10.493773         1.468401  ...   \n",
       "3089-Pisa-exIPMN-2015TAG-TR971         8.803256        62.824140  ...   \n",
       "3095-Pisa-PDAC-2015PRO-TR966          34.371581        31.367217  ...   \n",
       "\n",
       "                                ENSG00000257267  ENSG00000257923  \\\n",
       "59-Vumc-HD-121-TR1113                117.324508         3.072993   \n",
       "3089-Pisa-exIPMN-2015TAG-TR971        30.325190        29.150580   \n",
       "3095-Pisa-PDAC-2015PRO-TR966          17.611309         2.221786   \n",
       "\n",
       "                                ENSG00000258890  ENSG00000261253  \\\n",
       "59-Vumc-HD-121-TR1113                   0.00000        21.573921   \n",
       "3089-Pisa-exIPMN-2015TAG-TR971         13.02680        27.147634   \n",
       "3095-Pisa-PDAC-2015PRO-TR966            3.53823        10.369143   \n",
       "\n",
       "                                ENSG00000263563  ENSG00000264538  \\\n",
       "59-Vumc-HD-121-TR1113                  6.681779        16.664471   \n",
       "3089-Pisa-exIPMN-2015TAG-TR971        22.421453         5.242452   \n",
       "3095-Pisa-PDAC-2015PRO-TR966          22.837226        15.129052   \n",
       "\n",
       "                                ENSG00000265148  ENSG00000266714  \\\n",
       "59-Vumc-HD-121-TR1113                 20.410052         0.345442   \n",
       "3089-Pisa-exIPMN-2015TAG-TR971        33.021096        13.910024   \n",
       "3095-Pisa-PDAC-2015PRO-TR966           8.719777         0.442749   \n",
       "\n",
       "                                ENSG00000267243  ENSG00000271043  \n",
       "59-Vumc-HD-121-TR1113                   0.00000       839.812186  \n",
       "3089-Pisa-exIPMN-2015TAG-TR971          2.62712        15.772854  \n",
       "3095-Pisa-PDAC-2015PRO-TR966            0.00000       192.784063  \n",
       "\n",
       "[3 rows x 5251 columns]"
      ]
     },
     "execution_count": 25,
     "metadata": {},
     "output_type": "execute_result"
    }
   ],
   "source": [
    "outliers_X_probs"
   ]
  },
  {
   "cell_type": "code",
   "execution_count": 26,
   "metadata": {},
   "outputs": [
    {
     "data": {
      "text/plain": [
       "array([[  57],\n",
       "       [1963],\n",
       "       [1967]], dtype=int64)"
      ]
     },
     "execution_count": 26,
     "metadata": {},
     "output_type": "execute_result"
    }
   ],
   "source": [
    "np.argwhere(is_outlier == True)"
   ]
  },
  {
   "attachments": {},
   "cell_type": "markdown",
   "metadata": {},
   "source": [
    "### Apply DBSCAN to look for abnormalities (Malignant vs. nonMalignant)"
   ]
  },
  {
   "attachments": {},
   "cell_type": "markdown",
   "metadata": {},
   "source": [
    "Intenta ajustar el algoritmo DBSCAN para minimizar las diferencias entre ground truth y los clústeres arrojados por el algoritmo. El propio algoritmo DBSCAN, si se ajusta correctamente, sirve también para detectar outliers."
   ]
  },
  {
   "cell_type": "code",
   "execution_count": 27,
   "metadata": {},
   "outputs": [],
   "source": [
    "# Read merged dataFrame\n",
    "file='DataPatientsWithGT.csv'\n",
    "df = pd.read_csv(file,sep=';',index_col=0, na_values='n.a.', dtype={'Stage': 'object', 'Age': 'float64'})\n",
    "# Remove columns that are repeated or irrelevant\n",
    "df_group= df.drop(['Sample ID', 'Stage', 'Sex', 'Age', 'Sample-supplying institution', 'Training series', 'Evaluation series', 'Validation series', 'Patient_group'], axis=1, inplace=False)\n",
    "columns = df_group.columns\n",
    "X = df_group[columns[0:-1]]\n",
    "y = df_group[columns[-1]]"
   ]
  },
  {
   "cell_type": "code",
   "execution_count": 28,
   "metadata": {},
   "outputs": [
    {
     "name": "stdout",
     "output_type": "stream",
     "text": [
      "Clusters:  [-1  0]\n",
      "Elements per cluster:  [   8 2343]\n"
     ]
    }
   ],
   "source": [
    "# Apply DBSCAN\n",
    "# Cluster labels. Noisy samples are given the label -1.\n",
    "# Find eps and min_samples to obtain 2 groups\n",
    "dbscan = DBSCAN(eps=70000, min_samples=5)\n",
    "clusters = dbscan.fit_predict(X)\n",
    "unique, counts = np.unique(clusters, return_counts=True)\n",
    "print(\"Clusters: \", unique)\n",
    "print(\"Elements per cluster: \", counts)"
   ]
  },
  {
   "cell_type": "code",
   "execution_count": 29,
   "metadata": {},
   "outputs": [
    {
     "data": {
      "text/plain": [
       "array([[  57],\n",
       "       [ 812],\n",
       "       [ 819],\n",
       "       [1671],\n",
       "       [1961],\n",
       "       [1963],\n",
       "       [1967],\n",
       "       [2100]], dtype=int64)"
      ]
     },
     "execution_count": 29,
     "metadata": {},
     "output_type": "execute_result"
    }
   ],
   "source": [
    "np.argwhere(clusters == -1)"
   ]
  },
  {
   "cell_type": "code",
   "execution_count": 30,
   "metadata": {},
   "outputs": [],
   "source": [
    "#DBSCAN performance:\n",
    "# A mayor ARI, mejor\n",
    "# print(\"ARI =\", adjusted_rand_score(y, clusters))"
   ]
  },
  {
   "cell_type": "code",
   "execution_count": null,
   "metadata": {},
   "outputs": [],
   "source": []
  },
  {
   "attachments": {},
   "cell_type": "markdown",
   "metadata": {},
   "source": [
    "### Put all information together"
   ]
  },
  {
   "cell_type": "code",
   "execution_count": 2,
   "metadata": {},
   "outputs": [],
   "source": [
    "index_outliers_PCA = [1671, 2100]\n",
    "index_outliers_rPCA = [1671, 2100]\n",
    "index_outliers_IF_flat = [126, 313]\n",
    "index_outliers_LOF_flat = [57, 1963, 1967]\n",
    "index_outliers_DBSCAN = [57,812, 819, 1671, 1961, 1963, 1967, 2100]"
   ]
  },
  {
   "cell_type": "code",
   "execution_count": 3,
   "metadata": {},
   "outputs": [
    {
     "name": "stdout",
     "output_type": "stream",
     "text": [
      "[2100, 1671]\n"
     ]
    }
   ],
   "source": [
    "# Criteria: remove those outliers that appear at least in 2 lists (without DBSCAN)\n",
    "index_outliers_total = index_outliers_PCA + index_outliers_rPCA + index_outliers_IF_flat + index_outliers_LOF_flat\n",
    "index_outliers_repeated = list(set([i for i in index_outliers_total if index_outliers_total.count(i)>1]))\n",
    "print(index_outliers_repeated)"
   ]
  },
  {
   "cell_type": "code",
   "execution_count": 4,
   "metadata": {},
   "outputs": [
    {
     "name": "stdout",
     "output_type": "stream",
     "text": [
      "[1671, 1963, 1967, 2100, 57]\n"
     ]
    }
   ],
   "source": [
    "# Criteria: remove those outliers that appear at least in 2 lists (with DBSCAN)\n",
    "index_outliers_total = index_outliers_PCA + index_outliers_rPCA + index_outliers_IF_flat + index_outliers_LOF_flat + index_outliers_DBSCAN\n",
    "index_outliers_repeated = list(set([i for i in index_outliers_total if index_outliers_total.count(i)>1]))\n",
    "print(index_outliers_repeated)"
   ]
  },
  {
   "cell_type": "markdown",
   "metadata": {},
   "source": []
  }
 ],
 "metadata": {
  "kernelspec": {
   "display_name": "Python 3.10.5 64-bit",
   "language": "python",
   "name": "python3"
  },
  "language_info": {
   "codemirror_mode": {
    "name": "ipython",
    "version": 3
   },
   "file_extension": ".py",
   "mimetype": "text/x-python",
   "name": "python",
   "nbconvert_exporter": "python",
   "pygments_lexer": "ipython3",
   "version": "3.10.5"
  },
  "orig_nbformat": 4,
  "vscode": {
   "interpreter": {
    "hash": "7efbd634259f8e5f569f443ec65758432c9a08fec7ecc1e2b0020067d32b9947"
   }
  }
 },
 "nbformat": 4,
 "nbformat_minor": 2
}
